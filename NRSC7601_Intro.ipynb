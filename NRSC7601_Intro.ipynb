{
 "cells": [
  {
   "cell_type": "markdown",
   "metadata": {},
   "source": [
    "# Introduction to Python (for Neuroscientists)\n",
    "## a guided tour of data analysis with python\n",
    "10 Jan 2019<br>\n",
    "NRSC 7601 Systems Neuroscience<br>\n",
    "Daniel J Denman<br>\n",
    "University of Colorado Anschutz<br>\n",
    "<br>"
   ]
  },
  {
   "cell_type": "markdown",
   "metadata": {},
   "source": [
    "## Important: this is not meant to be a comprehensive guide. Use the internet! [Python documentation](https://docs.python.org/3.7/tutorial/index.html), [Stack Overflow](https://stackoverflow.com/), Google, Markdown cheatsheets [(e.g. this one)](https://github.com/adam-p/markdown-here/wiki/Markdown-Cheatsheet) all are your friends."
   ]
  },
  {
   "cell_type": "markdown",
   "metadata": {},
   "source": [
    "#### Here, we are using a Jupyter notebook environment to run a Python 3.7 kernel\n",
    "##### First, let's get our bearings in a Jupyter notebook<br>\n",
    "In a Jupyter notebook, we can iteratively explore data, do computations, make plots, and define functions and objects.<br>\n",
    "The notebook will contain a mix of code, markdown (a simple way to make formatted text) that might explain what is going on in the code, and outputs. The outputs will be in the form of printed statements and plots.\n",
    "<br>\n",
    "The fundamental unit of the Jupyter notebook is the cell. Here is an empty code cell:"
   ]
  },
  {
   "cell_type": "code",
   "execution_count": null,
   "metadata": {},
   "outputs": [],
   "source": []
  },
  {
   "cell_type": "markdown",
   "metadata": {},
   "source": [
    "- You can see the empty brackets on the left; this bracket is empty until the cell is executed\n",
    "- Cells can be \"code\", \"markdown\", or \"raw\". This cell, for example, is a \"markdown cell\". When i execute it (by pressing ```Shift + Enter```), it renders the text I have entered. <br>\n",
    "- In the cell below, a code cell, we will enter some code. To execute it, enter that cell and press ```Shift + Enter```. "
   ]
  },
  {
   "cell_type": "code",
   "execution_count": 13,
   "metadata": {},
   "outputs": [
    {
     "name": "stdout",
     "output_type": "stream",
     "text": [
      "hello world! time to do some science\n"
     ]
    }
   ],
   "source": [
    "message = 'hello world! time to do some science' #define a variable. this variable is a string, because we put the value in ''\n",
    "print(message)"
   ]
  },
  {
   "cell_type": "markdown",
   "metadata": {},
   "source": [
    "The empty brackets on the left has now been filled with a number, which is the order in in which the cell was executed. This will forever increment until the  this bracket is empty until the kernel (or Jupyter notebook) is restarted.\n",
    "<br>Also, you'll notice i added some text after a ```#```; this is commented code, which is ignored by the interepreter. you can write whatever you want, but the idea is to note what you did, if it is important/not clear from the syntax\n",
    "<br>\n",
    "<br>\n",
    "<br>\n",
    "So far, this notebook has only the Python kernel at the moment. It can only do basic Python things, like define simple variables and do simple operations:"
   ]
  },
  {
   "cell_type": "code",
   "execution_count": 5,
   "metadata": {},
   "outputs": [],
   "source": [
    "word = 'some letters'\n",
    "name = 'your name'\n",
    "a = 12\n",
    "b = 3"
   ]
  },
  {
   "cell_type": "code",
   "execution_count": 6,
   "metadata": {},
   "outputs": [
    {
     "data": {
      "text/plain": [
       "15"
      ]
     },
     "execution_count": 6,
     "metadata": {},
     "output_type": "execute_result"
    }
   ],
   "source": [
    "a + b"
   ]
  },
  {
   "cell_type": "code",
   "execution_count": 7,
   "metadata": {},
   "outputs": [
    {
     "data": {
      "text/plain": [
       "'some lettersyour name'"
      ]
     },
     "execution_count": 7,
     "metadata": {},
     "output_type": "execute_result"
    }
   ],
   "source": [
    "word + name"
   ]
  },
  {
   "cell_type": "markdown",
   "metadata": {},
   "source": [
    "lists:"
   ]
  },
  {
   "cell_type": "code",
   "execution_count": 11,
   "metadata": {},
   "outputs": [
    {
     "name": "stdout",
     "output_type": "stream",
     "text": [
      "[12, 3, 'some letters']\n"
     ]
    }
   ],
   "source": [
    "group_of_things = [a,b,word]\n",
    "print(group_of_things)"
   ]
  },
  {
   "cell_type": "markdown",
   "metadata": {},
   "source": [
    "dictionary:"
   ]
  },
  {
   "cell_type": "code",
   "execution_count": 43,
   "metadata": {},
   "outputs": [],
   "source": [
    "dict_of_things = {'key1':a,\n",
    "                  'key2':b,\n",
    "                  'key3':9,\n",
    "                  'someotherkey':group_of_things}"
   ]
  },
  {
   "cell_type": "code",
   "execution_count": 44,
   "metadata": {},
   "outputs": [
    {
     "data": {
      "text/plain": [
       "{'key1': 12, 'key2': 3, 'key3': 9, 'someotherkey': [12, 3, 'some letters']}"
      ]
     },
     "execution_count": 44,
     "metadata": {},
     "output_type": "execute_result"
    }
   ],
   "source": [
    "dict_of_things"
   ]
  },
  {
   "cell_type": "markdown",
   "metadata": {},
   "source": [
    "Another key concept for Jupyter is the difference between using the keyboard to add code or markdown, and using the keyboard to change the notebook itself. When you are \"in\" a cell, you are adding code or markdown. To jump up a level to add a cell, you need to ```esc``` out of that cell. Now at the noteook level, you can use letters on the keyboard to do thinge like add, delete, copy, paste, etc. cells. To add, press ```a``` (to add above where you are) or ```b``` (to add below). ```c``` for copy, ```x``` for cut, ```v``` for paste. Remember, no ```Shift```s needed. Try adding a cell below this one:"
   ]
  },
  {
   "cell_type": "markdown",
   "metadata": {},
   "source": [
    "These shortcuts can be found over there on the left in menu with a palette, or on the internet. Other important ones: ```dd``` to delete, and ```Enter``` to go down a level and in to the cell you have selected"
   ]
  },
  {
   "cell_type": "markdown",
   "metadata": {},
   "source": [
    "<br><br>\n",
    "### Imports\n",
    "We will probably need to import some packages to do any kind of data analysis. For most science, numpy and matplotlib (or packages that use matplotlib) are a good place to start:"
   ]
  },
  {
   "cell_type": "code",
   "execution_count": 12,
   "metadata": {},
   "outputs": [],
   "source": [
    "import numpy as np"
   ]
  },
  {
   "cell_type": "markdown",
   "metadata": {},
   "source": [
    "We can now use numpy, an extensive package of quantitative tools (**num**erical **py**thon)\n",
    "<br>The most important thing is the numpy ndarray, an n-dimensional group of numbers. Here are example one, two, three, and 28 dimensional ndarrays:"
   ]
  },
  {
   "cell_type": "code",
   "execution_count": 33,
   "metadata": {},
   "outputs": [
    {
     "ename": "SyntaxError",
     "evalue": "invalid token (<ipython-input-33-42007c569825>, line 4)",
     "output_type": "error",
     "traceback": [
      "\u001b[0;36m  File \u001b[0;32m\"<ipython-input-33-42007c569825>\"\u001b[0;36m, line \u001b[0;32m4\u001b[0m\n\u001b[0;31m    28_dim = np.ones(np.ones(79))\u001b[0m\n\u001b[0m      ^\u001b[0m\n\u001b[0;31mSyntaxError\u001b[0m\u001b[0;31m:\u001b[0m invalid token\n"
     ]
    }
   ],
   "source": [
    "one_dim = np.array([1,2,3])\n",
    "two_dim = np.array([[1,2,3,4,5],[1,2,3,4,5]])\n",
    "three_dim = np.array([[[1,2,3],[1,2,3],[1,2,3]],[[1,2,3],[1,2,3],[1,2,3]]])\n",
    "28_dim = np.ones(np.ones(28))"
   ]
  },
  {
   "cell_type": "markdown",
   "metadata": {},
   "source": [
    "#spoiler alert "
   ]
  },
  {
   "cell_type": "code",
   "execution_count": 36,
   "metadata": {},
   "outputs": [],
   "source": [
    "twentyeight_dim = np.ones(np.ones(28).astype(int))"
   ]
  },
  {
   "cell_type": "code",
   "execution_count": null,
   "metadata": {},
   "outputs": [],
   "source": [
    "import matplotlib.pyplot as plt"
   ]
  },
  {
   "cell_type": "markdown",
   "metadata": {},
   "source": [
    "We can now use matplotib, an extensive package of plotting tools"
   ]
  },
  {
   "cell_type": "markdown",
   "metadata": {},
   "source": [
    "### some data"
   ]
  },
  {
   "cell_type": "code",
   "execution_count": 53,
   "metadata": {},
   "outputs": [],
   "source": [
    "x = np.linspace(1,30,1000)\n",
    "y = np.sin(x)"
   ]
  },
  {
   "cell_type": "code",
   "execution_count": 55,
   "metadata": {},
   "outputs": [
    {
     "data": {
      "text/plain": [
       "Text(0, 0.5, 'y data')"
      ]
     },
     "execution_count": 55,
     "metadata": {},
     "output_type": "execute_result"
    },
    {
     "data": {
      "image/png": "[encoded data removed]",
      "text/plain": [
       "<Figure size 432x288 with 1 Axes>"
      ]
     },
     "metadata": {
      "needs_background": "light"
     },
     "output_type": "display_data"
    }
   ],
   "source": [
    "plt.plot(x,y)\n",
    "plt.xlabel('x data')\n",
    "plt.ylabel('y data')"
   ]
  },
  {
   "cell_type": "code",
   "execution_count": 58,
   "metadata": {},
   "outputs": [
    {
     "name": "stdout",
     "output_type": "stream",
     "text": [
      "mean: 0.013224572160721586\n",
      "s.d.: 0.7145770047302514\n"
     ]
    }
   ],
   "source": [
    "print('mean: '+str(np.mean(y)))\n",
    "print('s.d.: '+str(np.std(y)))"
   ]
  },
  {
   "cell_type": "code",
   "execution_count": 61,
   "metadata": {},
   "outputs": [
    {
     "data": {
      "text/plain": [
       "Text(0, 0.5, 'y data')"
      ]
     },
     "execution_count": 61,
     "metadata": {},
     "output_type": "execute_result"
    },
    {
     "data": {
      "image/png": "[encoded data removed]",
      "text/plain": [
       "<Figure size 432x288 with 1 Axes>"
      ]
     },
     "metadata": {
      "needs_background": "light"
     },
     "output_type": "display_data"
    }
   ],
   "source": [
    "plt.plot(x,y)\n",
    "plt.axhline(np.mean(y),color='red')\n",
    "plt.axhline(np.std(y),color='pink');plt.axhline(np.std(y)*-1,color='pink')\n",
    "plt.xlabel('x data')\n",
    "plt.ylabel('y data')"
   ]
  },
  {
   "cell_type": "markdown",
   "metadata": {},
   "source": [
    "question: in what ranges of x is y above the s.d. of y?"
   ]
  },
  {
   "cell_type": "code",
   "execution_count": 67,
   "metadata": {},
   "outputs": [
    {
     "name": "stdout",
     "output_type": "stream",
     "text": [
      "[  0   1   2   3   4   5   6   7   8   9  10  11  12  13  14  15  16  17\n",
      "  18  19  20  21  22  23  24  25  26  27  28  29  30  31  32  33  34  35\n",
      "  36  37  38  39  40  41  42  43  44  45  46 210 211 212 213 214 215 216\n",
      " 217 218 219 220 221 222 223 224 225 226 227 228 229 230 231 232 233 234\n",
      " 235 236 237 238 239 240 241 242 243 244 245 246 247 248 249 250 251 252\n",
      " 253 254 255 256 257 258 259 260 261 262 426 427 428 429 430 431 432 433\n",
      " 434 435 436 437 438 439 440 441 442 443 444 445 446 447 448 449 450 451\n",
      " 452 453 454 455 456 457 458 459 460 461 462 463 464 465 466 467 468 469\n",
      " 470 471 472 473 474 475 476 477 478 479 643 644 645 646 647 648 649 650\n",
      " 651 652 653 654 655 656 657 658 659 660 661 662 663 664 665 666 667 668\n",
      " 669 670 671 672 673 674 675 676 677 678 679 680 681 682 683 684 685 686\n",
      " 687 688 689 690 691 692 693 694 695 859 860 861 862 863 864 865 866 867\n",
      " 868 869 870 871 872 873 874 875 876 877 878 879 880 881 882 883 884 885\n",
      " 886 887 888 889 890 891 892 893 894 895 896 897 898 899 900 901 902 903\n",
      " 904 905 906 907 908 909 910 911 912]\n"
     ]
    }
   ],
   "source": [
    "indices = np.where(y>np.std(y))[0]\n",
    "print(indices)"
   ]
  },
  {
   "cell_type": "code",
   "execution_count": 72,
   "metadata": {},
   "outputs": [
    {
     "data": {
      "text/plain": [
       "Text(0, 0.5, 'y data')"
      ]
     },
     "execution_count": 72,
     "metadata": {},
     "output_type": "execute_result"
    },
    {
     "data": {
      "image/png": "[encoded data removed]",
      "text/plain": [
       "<Figure size 432x288 with 1 Axes>"
      ]
     },
     "metadata": {
      "needs_background": "light"
     },
     "output_type": "display_data"
    }
   ],
   "source": [
    "plt.plot(x,y)\n",
    "plt.axhline(np.mean(y),color='red')\n",
    "plt.axhline(np.std(y),color='pink');plt.axhline(np.std(y)*-1,color='pink')\n",
    "plt.fill_between(x[indices], y[indices], np.std(y),color='pink')\n",
    "plt.xlabel('x data')\n",
    "plt.ylabel('y data')"
   ]
  },
  {
   "cell_type": "code",
   "execution_count": null,
   "metadata": {},
   "outputs": [],
   "source": []
  }
 ],
 "metadata": {
  "kernelspec": {
   "display_name": "Python 3",
   "language": "python",
   "name": "python3"
  },
  "language_info": {
   "codemirror_mode": {
    "name": "ipython",
    "version": 3
   },
   "file_extension": ".py",
   "mimetype": "text/x-python",
   "name": "python",
   "nbconvert_exporter": "python",
   "pygments_lexer": "ipython3",
   "version": "3.7.4"
  }
 },
 "nbformat": 4,
 "nbformat_minor": 4
}
