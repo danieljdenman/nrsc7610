{
 "cells": [
  {
   "cell_type": "markdown",
   "metadata": {},
   "source": [
    "# Introduction to Python (for Systems Neuro)\n",
    "## a guided tour of data analysis with python\n",
    "11 March 2024<br>\n",
    "NRSC 7610 Systems Neuroscience<br>\n",
    "Daniel J Denman<br>\n",
    "University of Colorado Anschutz<br>\n",
    "<br>"
   ]
  },
  {
   "cell_type": "markdown",
   "metadata": {},
   "source": [
    "# Important: this is not meant to be a comprehensive guide. \n",
    "Use the internet! [Python documentation](https://docs.python.org/3.7/tutorial/index.html), [Stack Overflow](https://stackoverflow.com/), Google, Markdown cheatsheets [(e.g. this one)](https://github.com/adam-p/markdown-here/wiki/Markdown-Cheatsheet) all are your friends.\n",
    "### we're going to cover two things in the introduction here:\n",
    "0. Jupyter notebooks and some pure Python basics\n",
    "1. Importing useful packages for neuroscience analysis [and doing a few things with them]\n",
    "<br>[hot tip: python indexing starts with 0!]"
   ]
  },
  {
   "cell_type": "markdown",
   "metadata": {},
   "source": [
    "# 0. Jupyter notebooks and some pure Python basics\n",
    "#### Here, we are using a Jupyter notebook environment to run a Python kernel\n",
    "##### [for posterity: you've had the option to run the Jupyter locally or on Google colab]\n",
    "##### First, let's get our bearings in a Jupyter notebook<br>\n",
    "In a Jupyter notebook, we can iteratively explore data, do computations, make plots, and define functions and objects.<br>\n",
    "The notebook will contain a mix of code, markdown (a simple way to make formatted text) that might explain what is going on in the code, and outputs. The outputs will be in the form of printed statements and plots.\n",
    "<br>\n",
    "The fundamental unit of the Jupyter notebook is the cell. Here is an empty code cell:"
   ]
  },
  {
   "cell_type": "code",
   "execution_count": null,
   "metadata": {},
   "outputs": [],
   "source": []
  },
  {
   "cell_type": "markdown",
   "metadata": {},
   "source": [
    "- You can see the empty brackets on the left; this bracket is empty until the cell is executed\n",
    "- Cells can be \"code\", \"markdown\", or \"raw\". This cell, for example, is a \"markdown cell\". When i execute it (by pressing ```Shift + Enter```), it renders the text I have entered. <br>\n",
    "- In the cell below, a code cell, we will enter some code. To execute it, enter that cell and press ```Shift + Enter```. "
   ]
  },
  {
   "cell_type": "code",
   "execution_count": 1,
   "metadata": {},
   "outputs": [
    {
     "name": "stdout",
     "output_type": "stream",
     "text": [
      "hello world! time to do some science\n"
     ]
    }
   ],
   "source": [
    "message = 'hello world! time to do some science' #define a variable. this variable is a string, because we put the value in ''\n",
    "print(message) #print() is a function that is part of core python. it prints text; in the case of notebook, this will appear in the output of this cell, below"
   ]
  },
  {
   "cell_type": "markdown",
   "metadata": {},
   "source": [
    "Notice that the empty brackets on the left of the cell above have now been filled with a number, which is the order in in which the cell was executed. This will forever increment until the  this bracket is empty until the kernel (or Jupyter notebook) is restarted.\n",
    "<br>Also, you'll notice i added some text after a ```#```; this is commented code, which is ignored by the interepreter. you can write whatever you want, but the idea is to note what you did, if it is important/not clear from the syntax\n",
    "<br>\n",
    "<br>\n",
    "<br>\n",
    "So far, this notebook has only the Python kernel at the moment. It can only do basic Python things, like define simple variables and do simple operations:\n",
    "<br>\n",
    "<br>\n",
    "with letters"
   ]
  },
  {
   "cell_type": "code",
   "execution_count": null,
   "metadata": {},
   "outputs": [],
   "source": [
    "word = 'some letters'\n",
    "name = 'your name'\n"
   ]
  },
  {
   "cell_type": "markdown",
   "metadata": {},
   "source": [
    "with numbers:"
   ]
  },
  {
   "cell_type": "code",
   "execution_count": null,
   "metadata": {},
   "outputs": [],
   "source": [
    "a = 12\n",
    "b = 3. "
   ]
  },
  {
   "cell_type": "markdown",
   "metadata": {},
   "source": [
    "python has built in variable types. in this case, we have used ```str```, ```int```, and ```float```. \n",
    "<br>```str``` is declared with ```''```\n",
    "<br>```int``` is declared with any number [no decimal point]\n",
    "<br>```float``` is declared with a number with a decimal point\n",
    "<br>\n",
    "<br>now we can do some things with the variables"
   ]
  },
  {
   "cell_type": "code",
   "execution_count": null,
   "metadata": {},
   "outputs": [],
   "source": [
    "print(type(a))\n",
    "print(type(word))"
   ]
  },
  {
   "cell_type": "code",
   "execution_count": null,
   "metadata": {},
   "outputs": [],
   "source": [
    "a + b"
   ]
  },
  {
   "cell_type": "code",
   "execution_count": null,
   "metadata": {},
   "outputs": [],
   "source": [
    "word + name"
   ]
  },
  {
   "cell_type": "markdown",
   "metadata": {},
   "source": [
    "here are some other useful standard python variable types:\n",
    "<br>list:"
   ]
  },
  {
   "cell_type": "code",
   "execution_count": null,
   "metadata": {},
   "outputs": [],
   "source": [
    "empty_list = []\n",
    "list_of_things = [1, 'a', a]"
   ]
  },
  {
   "cell_type": "markdown",
   "metadata": {},
   "source": [
    "dictionary:"
   ]
  },
  {
   "cell_type": "code",
   "execution_count": 50,
   "metadata": {},
   "outputs": [],
   "source": [
    "dict_of_things = {'key1':a,\n",
    "                  'key2':b,\n",
    "                  'key3':9,\n",
    "                  'someotherkey':group_of_things}"
   ]
  },
  {
   "cell_type": "code",
   "execution_count": null,
   "metadata": {},
   "outputs": [],
   "source": [
    "dict_of_things"
   ]
  },
  {
   "cell_type": "markdown",
   "metadata": {},
   "source": [
    "Another key concept for Jupyter is the difference between using the keyboard to add code or markdown, and using the keyboard to change the notebook itself. When you are \"in\" a cell, you are adding code or markdown. To jump up a level to add a cell, you need to ```esc``` out of that cell. Now at the noteook level, you can use letters on the keyboard to do thinge like add, delete, copy, paste, etc. cells. To add, press ```a``` (to add above where you are) or ```b``` (to add below). ```c``` for copy, ```x``` for cut, ```v``` for paste. Remember, no ```Shift```s needed. Try adding a cell below this one:"
   ]
  },
  {
   "cell_type": "markdown",
   "metadata": {},
   "source": [
    "These shortcuts can be found over there on the left in menu with a palette, or on the internet. Other important ones: ```dd``` to delete, and ```Enter``` to go down a level and in to the cell you have selected"
   ]
  },
  {
   "cell_type": "markdown",
   "metadata": {},
   "source": [
    "--> There are other tricks to notebooks: moving cells, copy/cuttting cells, running all or sets of cells, etc. Demonstrate some."
   ]
  },
  {
   "cell_type": "markdown",
   "metadata": {},
   "source": [
    "# Analyzing time series\n",
    "Almost all of the concepts you will hear about in this course involve measurements of neural activity, usually relative to something an experimenter is controlling or measuring. In NRSC 7610, in various lectures, you will see spikes, Ca2+ transients that reflect spikes, field potentials, maybe others.\n",
    "\n",
    "### a commonality is that this is the quantitative analysis of wiggles. also called time series.\n",
    "making measurements from time series is at the heart of systems (and some other) neuroscience. we're going to use a computer to this, because its 2024. it wasn't always like this! we (broadly speaking) used to draw wiggles on paper and measure them with rulers:\n",
    "<br>\n",
    "<img src=\"https://alt-model-images.s3-us-west-2.amazonaws.com/square-version-images/Single-Channel-Strip-Chart-Recorder-Model-101.JPG\" width=\"200\" height=\"200\" />\n",
    "\n",
    "<!-- ![strip chart recorder]() -->\n",
    "\n",
    "\n"
   ]
  },
  {
   "cell_type": "markdown",
   "metadata": {},
   "source": [
    "#### We are going to start with a reduced case, to focus a bit on the coding/analysis in this activity. \n",
    "We'll have one neuron's action potential times and the times of stimuli that may (or may not) affect this neuron. <br><br>\n",
    "The nature of the neuron and the stimuli aren't critical for this intro; several lectures will get into greater detail wbith analysis applications later in the course. <br>\n",
    "two notes:\n",
    "1. you may need to `!pip install google-cloud-storage`\n",
    "2. after that,"
   ]
  },
  {
   "cell_type": "code",
   "execution_count": 6,
   "metadata": {},
   "outputs": [
    {
     "ename": "OSError",
     "evalue": "Project was not passed and could not be determined from the environment.",
     "output_type": "error",
     "traceback": [
      "\u001b[0;31m---------------------------------------------------------------------------\u001b[0m",
      "\u001b[0;31mOSError\u001b[0m                                   Traceback (most recent call last)",
      "\u001b[0;32m<ipython-input-6-c0120d48a532>\u001b[0m in \u001b[0;36m<module>\u001b[0;34m\u001b[0m\n\u001b[1;32m      4\u001b[0m \u001b[0;32mfrom\u001b[0m \u001b[0mio\u001b[0m \u001b[0;32mimport\u001b[0m \u001b[0mBytesIO\u001b[0m\u001b[0;34m\u001b[0m\u001b[0;34m\u001b[0m\u001b[0m\n\u001b[1;32m      5\u001b[0m \u001b[0;32mimport\u001b[0m \u001b[0mpandas\u001b[0m \u001b[0;32mas\u001b[0m \u001b[0mpd\u001b[0m\u001b[0;34m\u001b[0m\u001b[0;34m\u001b[0m\u001b[0m\n\u001b[0;32m----> 6\u001b[0;31m \u001b[0mclient\u001b[0m \u001b[0;34m=\u001b[0m \u001b[0mstorage\u001b[0m\u001b[0;34m.\u001b[0m\u001b[0mClient\u001b[0m\u001b[0;34m(\u001b[0m\u001b[0;34m)\u001b[0m\u001b[0;34m\u001b[0m\u001b[0;34m\u001b[0m\u001b[0m\n\u001b[0m\u001b[1;32m      7\u001b[0m \u001b[0mbucket_name\u001b[0m \u001b[0;34m=\u001b[0m \u001b[0;34m\"denmanlab\"\u001b[0m\u001b[0;34m\u001b[0m\u001b[0;34m\u001b[0m\u001b[0m\n\u001b[1;32m      8\u001b[0m \u001b[0mfile_name\u001b[0m \u001b[0;34m=\u001b[0m \u001b[0;34m\"M192079_noRawData.nwb\"\u001b[0m\u001b[0;34m\u001b[0m\u001b[0;34m\u001b[0m\u001b[0m\n",
      "\u001b[0;32m~/opt/anaconda3/lib/python3.7/site-packages/google/cloud/storage/client.py\u001b[0m in \u001b[0;36m__init__\u001b[0;34m(self, project, credentials, _http, client_info, client_options, use_auth_w_custom_endpoint, extra_headers)\u001b[0m\n\u001b[1;32m    228\u001b[0m             \u001b[0mcredentials\u001b[0m\u001b[0;34m=\u001b[0m\u001b[0mcredentials\u001b[0m\u001b[0;34m,\u001b[0m\u001b[0;34m\u001b[0m\u001b[0;34m\u001b[0m\u001b[0m\n\u001b[1;32m    229\u001b[0m             \u001b[0mclient_options\u001b[0m\u001b[0;34m=\u001b[0m\u001b[0mclient_options\u001b[0m\u001b[0;34m,\u001b[0m\u001b[0;34m\u001b[0m\u001b[0;34m\u001b[0m\u001b[0m\n\u001b[0;32m--> 230\u001b[0;31m             \u001b[0m_http\u001b[0m\u001b[0;34m=\u001b[0m\u001b[0m_http\u001b[0m\u001b[0;34m,\u001b[0m\u001b[0;34m\u001b[0m\u001b[0;34m\u001b[0m\u001b[0m\n\u001b[0m\u001b[1;32m    231\u001b[0m         )\n\u001b[1;32m    232\u001b[0m \u001b[0;34m\u001b[0m\u001b[0m\n",
      "\u001b[0;32m~/opt/anaconda3/lib/python3.7/site-packages/google/cloud/client/__init__.py\u001b[0m in \u001b[0;36m__init__\u001b[0;34m(self, project, credentials, client_options, _http)\u001b[0m\n\u001b[1;32m    318\u001b[0m \u001b[0;34m\u001b[0m\u001b[0m\n\u001b[1;32m    319\u001b[0m     \u001b[0;32mdef\u001b[0m \u001b[0m__init__\u001b[0m\u001b[0;34m(\u001b[0m\u001b[0mself\u001b[0m\u001b[0;34m,\u001b[0m \u001b[0mproject\u001b[0m\u001b[0;34m=\u001b[0m\u001b[0;32mNone\u001b[0m\u001b[0;34m,\u001b[0m \u001b[0mcredentials\u001b[0m\u001b[0;34m=\u001b[0m\u001b[0;32mNone\u001b[0m\u001b[0;34m,\u001b[0m \u001b[0mclient_options\u001b[0m\u001b[0;34m=\u001b[0m\u001b[0;32mNone\u001b[0m\u001b[0;34m,\u001b[0m \u001b[0m_http\u001b[0m\u001b[0;34m=\u001b[0m\u001b[0;32mNone\u001b[0m\u001b[0;34m)\u001b[0m\u001b[0;34m:\u001b[0m\u001b[0;34m\u001b[0m\u001b[0;34m\u001b[0m\u001b[0m\n\u001b[0;32m--> 320\u001b[0;31m         \u001b[0m_ClientProjectMixin\u001b[0m\u001b[0;34m.\u001b[0m\u001b[0m__init__\u001b[0m\u001b[0;34m(\u001b[0m\u001b[0mself\u001b[0m\u001b[0;34m,\u001b[0m \u001b[0mproject\u001b[0m\u001b[0;34m=\u001b[0m\u001b[0mproject\u001b[0m\u001b[0;34m,\u001b[0m \u001b[0mcredentials\u001b[0m\u001b[0;34m=\u001b[0m\u001b[0mcredentials\u001b[0m\u001b[0;34m)\u001b[0m\u001b[0;34m\u001b[0m\u001b[0;34m\u001b[0m\u001b[0m\n\u001b[0m\u001b[1;32m    321\u001b[0m         Client.__init__(\n\u001b[1;32m    322\u001b[0m             \u001b[0mself\u001b[0m\u001b[0;34m,\u001b[0m \u001b[0mcredentials\u001b[0m\u001b[0;34m=\u001b[0m\u001b[0mcredentials\u001b[0m\u001b[0;34m,\u001b[0m \u001b[0mclient_options\u001b[0m\u001b[0;34m=\u001b[0m\u001b[0mclient_options\u001b[0m\u001b[0;34m,\u001b[0m \u001b[0m_http\u001b[0m\u001b[0;34m=\u001b[0m\u001b[0m_http\u001b[0m\u001b[0;34m\u001b[0m\u001b[0;34m\u001b[0m\u001b[0m\n",
      "\u001b[0;32m~/opt/anaconda3/lib/python3.7/site-packages/google/cloud/client/__init__.py\u001b[0m in \u001b[0;36m__init__\u001b[0;34m(self, project, credentials)\u001b[0m\n\u001b[1;32m    270\u001b[0m         \u001b[0;32mif\u001b[0m \u001b[0mproject\u001b[0m \u001b[0;32mis\u001b[0m \u001b[0;32mNone\u001b[0m\u001b[0;34m:\u001b[0m\u001b[0;34m\u001b[0m\u001b[0;34m\u001b[0m\u001b[0m\n\u001b[1;32m    271\u001b[0m             raise EnvironmentError(\n\u001b[0;32m--> 272\u001b[0;31m                 \u001b[0;34m\"Project was not passed and could not be \"\u001b[0m\u001b[0;34m\u001b[0m\u001b[0;34m\u001b[0m\u001b[0m\n\u001b[0m\u001b[1;32m    273\u001b[0m                 \u001b[0;34m\"determined from the environment.\"\u001b[0m\u001b[0;34m\u001b[0m\u001b[0;34m\u001b[0m\u001b[0m\n\u001b[1;32m    274\u001b[0m             )\n",
      "\u001b[0;31mOSError\u001b[0m: Project was not passed and could not be determined from the environment."
     ]
    }
   ],
   "source": [
    "#note: this is a comment. it can say whatever, it is not code. \n",
    "#grab the data from the Denman lab, so you have it locally (either in colab or on to your computer)\n",
    "from google.cloud import storage\n",
    "from io import BytesIO\n",
    "import pandas as pd\n",
    "client = storage.Client()\n",
    "bucket_name = \"denmanlab\"\n",
    "file_name = \"M192079_noRawData.nwb\"\n",
    "bucket = client.get_bucket(bucket_name)\n",
    "blob = bucket.get_blob(file_name)\n",
    "content = blob.download_as_string()\n",
    "df = pd.read_csv(BytesIO(content))"
   ]
  },
  {
   "cell_type": "code",
   "execution_count": 8,
   "metadata": {},
   "outputs": [],
   "source": [
    "import os"
   ]
  },
  {
   "cell_type": "code",
   "execution_count": 9,
   "metadata": {},
   "outputs": [
    {
     "ename": "KeyError",
     "evalue": "'GOOGLE_APPLICATION_CREDENTIALS'",
     "output_type": "error",
     "traceback": [
      "\u001b[0;31m---------------------------------------------------------------------------\u001b[0m",
      "\u001b[0;31mKeyError\u001b[0m                                  Traceback (most recent call last)",
      "\u001b[0;32m<ipython-input-9-f36444554072>\u001b[0m in \u001b[0;36m<module>\u001b[0;34m\u001b[0m\n\u001b[0;32m----> 1\u001b[0;31m \u001b[0mprint\u001b[0m\u001b[0;34m(\u001b[0m\u001b[0mos\u001b[0m\u001b[0;34m.\u001b[0m\u001b[0menviron\u001b[0m\u001b[0;34m[\u001b[0m\u001b[0;34m'GOOGLE_APPLICATION_CREDENTIALS'\u001b[0m\u001b[0;34m]\u001b[0m\u001b[0;34m)\u001b[0m\u001b[0;34m\u001b[0m\u001b[0;34m\u001b[0m\u001b[0m\n\u001b[0m",
      "\u001b[0;32m~/opt/anaconda3/lib/python3.7/os.py\u001b[0m in \u001b[0;36m__getitem__\u001b[0;34m(self, key)\u001b[0m\n\u001b[1;32m    679\u001b[0m         \u001b[0;32mexcept\u001b[0m \u001b[0mKeyError\u001b[0m\u001b[0;34m:\u001b[0m\u001b[0;34m\u001b[0m\u001b[0;34m\u001b[0m\u001b[0m\n\u001b[1;32m    680\u001b[0m             \u001b[0;31m# raise KeyError with the original key value\u001b[0m\u001b[0;34m\u001b[0m\u001b[0;34m\u001b[0m\u001b[0;34m\u001b[0m\u001b[0m\n\u001b[0;32m--> 681\u001b[0;31m             \u001b[0;32mraise\u001b[0m \u001b[0mKeyError\u001b[0m\u001b[0;34m(\u001b[0m\u001b[0mkey\u001b[0m\u001b[0;34m)\u001b[0m \u001b[0;32mfrom\u001b[0m \u001b[0;32mNone\u001b[0m\u001b[0;34m\u001b[0m\u001b[0;34m\u001b[0m\u001b[0m\n\u001b[0m\u001b[1;32m    682\u001b[0m         \u001b[0;32mreturn\u001b[0m \u001b[0mself\u001b[0m\u001b[0;34m.\u001b[0m\u001b[0mdecodevalue\u001b[0m\u001b[0;34m(\u001b[0m\u001b[0mvalue\u001b[0m\u001b[0;34m)\u001b[0m\u001b[0;34m\u001b[0m\u001b[0;34m\u001b[0m\u001b[0m\n\u001b[1;32m    683\u001b[0m \u001b[0;34m\u001b[0m\u001b[0m\n",
      "\u001b[0;31mKeyError\u001b[0m: 'GOOGLE_APPLICATION_CREDENTIALS'"
     ]
    }
   ],
   "source": [
    "print(os.environ['GOOGLE_APPLICATION_CREDENTIALS'])"
   ]
  },
  {
   "cell_type": "code",
   "execution_count": null,
   "metadata": {},
   "outputs": [],
   "source": [
    "#grab one cell\n",
    "#load some stim times"
   ]
  },
  {
   "cell_type": "markdown",
   "metadata": {},
   "source": [
    "our goal will be to plot the peri-event (also called peri-stimulus in some cases) histogram, or PETH (or PSTH). like so:"
   ]
  },
  {
   "cell_type": "code",
   "execution_count": null,
   "metadata": {},
   "outputs": [],
   "source": []
  },
  {
   "cell_type": "markdown",
   "metadata": {},
   "source": [
    "<br><br>\n",
    "# 1. Importing useful packages\n",
    "The basic python things are useful, but we will probably need to import some packages to do any kind of data analysis. For most science, numpy and matplotlib (or packages that use matplotlib) are a good place to start. For many \"data science\" applications and some forms of analysis, pandas is also a very useful package. seaborn goes well with pandas, especially for making \"big data\" plots"
   ]
  },
  {
   "cell_type": "markdown",
   "metadata": {},
   "source": [
    "## numpy"
   ]
  },
  {
   "cell_type": "code",
   "execution_count": null,
   "metadata": {},
   "outputs": [],
   "source": [
    "import numpy as np"
   ]
  },
  {
   "cell_type": "markdown",
   "metadata": {},
   "source": [
    "We can now use numpy, an extensive package of quantitative tools (**num**erical **py**thon)\n",
    "<br>**As with all packages (and objects), you access attributes of the package with the ```.``` notation. The ```.``` means you are \"going in something\", to get an attribute or function that lives inside of it**\n",
    "<br>So with that ```import numpy as np``` statement above, we have brought the numpy package and all of its attributes into our notebook. if we want to use a numpy function, we use ```np.name_of_numpy_function_we_want```. For example, numpy has a function called ```save```, which saves a thing to disk. You would use this by typing ```np.save(thing_to_save)```. similarly, the numpy ```load``` function is invoked with ```np.load(thing_to_load)```"
   ]
  },
  {
   "cell_type": "markdown",
   "metadata": {},
   "source": [
    "packages also have non-function attributes - strings and floats or whatever else. for example, numpy has pi as an attribute, since one sometimes wants pi, to, you know, do numerical calculateion type things:"
   ]
  },
  {
   "cell_type": "code",
   "execution_count": null,
   "metadata": {},
   "outputs": [],
   "source": [
    "np.pi"
   ]
  },
  {
   "cell_type": "markdown",
   "metadata": {},
   "source": [
    "<br>The most important thing is the new variable type: the numpy ndarray. an ndarray is an n-dimensional group of numbers. Here are example one, two, and three dimensional ndarrays:"
   ]
  },
  {
   "cell_type": "code",
   "execution_count": null,
   "metadata": {},
   "outputs": [],
   "source": [
    "one_dim = np.array([1,2,3])\n",
    "two_dim = np.array([[1,2,3,4,5],[1,2,3,4,5]])\n",
    "3_dim = np.array([[[1,2,3],[1,2,3],[1,2,3]],[[1,2,3],[1,2,3],[1,2,3]]])"
   ]
  },
  {
   "cell_type": "markdown",
   "metadata": {},
   "source": [
    "ok, here we've done something wrong, and python has given us an error after it tried to do the wrong thing we told it to do. in this case, we tried to name a variabile with an integer at the beginning. that's not allowed. "
   ]
  },
  {
   "cell_type": "code",
   "execution_count": 10,
   "metadata": {},
   "outputs": [],
   "source": [
    "three_dim = np.array([[[1,2,3],[1,2,3],[1,2,3]],[[1,2,3],[1,2,3],[1,2,3]]])"
   ]
  },
  {
   "cell_type": "markdown",
   "metadata": {},
   "source": [
    "### note: these ```ndarray```s are basically lists of numbers. \n",
    "but, of course, that is the core of what we are doing with *any* kind of quantitative analyusis. ```numpy``` has many, many functions to manipulate and do analysis on them. and numpy ```ndarray```s are much faster than pure python lists. ```scipy``` has many other anaylses, and expects ```numpy``` ```ndarray```s as input. Machine learning packages like ```scikit-learn```, ```tensorflow```, etc. will also often expect numpy, be faster with them, or at least be compatible. "
   ]
  },
  {
   "cell_type": "markdown",
   "metadata": {},
   "source": [
    "let's move on to plotting some things"
   ]
  },
  {
   "cell_type": "code",
   "execution_count": 3,
   "metadata": {},
   "outputs": [],
   "source": [
    "import matplotlib.pyplot as plt"
   ]
  },
  {
   "cell_type": "markdown",
   "metadata": {},
   "source": [
    "## matplotib\n",
    "an extensive package of plotting tools"
   ]
  },
  {
   "cell_type": "markdown",
   "metadata": {},
   "source": [
    "first, make some numpy nd arrays to plot. these are going to be:\n",
    "- ```x```: a 1D array increasing from 1.0 to 30.0, over 1000 data points\n",
    "- ```y```: a 1D array of a the sin(x), over 1000 data points"
   ]
  },
  {
   "cell_type": "code",
   "execution_count": 7,
   "metadata": {},
   "outputs": [],
   "source": [
    "x = np.linspace(1,30,1000)\n",
    "y = np.sin(x)"
   ]
  },
  {
   "cell_type": "markdown",
   "metadata": {},
   "source": [
    "now we can plot what ```x``` and ```y``` look like:"
   ]
  },
  {
   "cell_type": "code",
   "execution_count": null,
   "metadata": {},
   "outputs": [],
   "source": [
    "plt.plot(x)"
   ]
  },
  {
   "cell_type": "code",
   "execution_count": null,
   "metadata": {},
   "outputs": [],
   "source": [
    "plt.plot(x,y)\n",
    "plt.xlabel('x data')\n",
    "plt.ylabel('y data')"
   ]
  },
  {
   "cell_type": "markdown",
   "metadata": {},
   "source": [
    "and do some simple calculations on them:"
   ]
  },
  {
   "cell_type": "code",
   "execution_count": null,
   "metadata": {},
   "outputs": [],
   "source": [
    "print('mean: '+str(np.mean(y)))\n",
    "print('s.d.: '+str(np.std(y)))"
   ]
  },
  {
   "cell_type": "markdown",
   "metadata": {},
   "source": [
    "we can also do more complicated measurements, like finding the area between two parts of a curve."
   ]
  },
  {
   "cell_type": "code",
   "execution_count": null,
   "metadata": {},
   "outputs": [],
   "source": [
    "plt.plot(x,y)\n",
    "plt.axhline(np.mean(y),color='red')\n",
    "plt.axhline(np.std(y),color='pink');plt.axhline(np.std(y)*-1,color='pink')\n",
    "plt.xlabel('x data')\n",
    "plt.ylabel('y data')"
   ]
  },
  {
   "cell_type": "markdown",
   "metadata": {},
   "source": [
    "question: in what ranges of x is y above the s.d. of y?"
   ]
  },
  {
   "cell_type": "code",
   "execution_count": null,
   "metadata": {},
   "outputs": [],
   "source": [
    "indices = np.where(y>np.std(y))[0]\n",
    "print(indices)"
   ]
  },
  {
   "cell_type": "code",
   "execution_count": null,
   "metadata": {},
   "outputs": [],
   "source": [
    "plt.plot(x,y)\n",
    "\n",
    "plt.axhline(np.mean(y),color='red')\n",
    "plt.axhline(np.std(y),color='pink')\n",
    "plt.axhline(np.std(y)*-1,color='pink')\n",
    "\n",
    "plt.fill_between(x[indices], y[indices], np.std(y),color='pink')\n",
    "\n",
    "plt.xlabel('x data')\n",
    "plt.ylabel('y data')"
   ]
  },
  {
   "cell_type": "markdown",
   "metadata": {},
   "source": [
    "## Pandas\n",
    "The core data structure in ```pandas``` is a ```DataFrame```.<br>\n",
    "A ```DataFrame``` is essentially a nice table - you could think of it like Excel with simpler indexing and the ability to make any kind of plot your heart desires. "
   ]
  },
  {
   "cell_type": "code",
   "execution_count": 11,
   "metadata": {},
   "outputs": [],
   "source": [
    "import pandas as pd"
   ]
  },
  {
   "cell_type": "markdown",
   "metadata": {},
   "source": [
    "in fact we start with a nice function of pandas, ```read_csv```, which is importing a csv file (of the type you'd import into excel). note: you can also ```pd.read_excel``` to just read an .xlsx file!"
   ]
  },
  {
   "cell_type": "markdown",
   "metadata": {},
   "source": [
    "make a DataFrame, where the rows are each trial and columns are anything you want for that trial"
   ]
  },
  {
   "cell_type": "code",
   "execution_count": 36,
   "metadata": {},
   "outputs": [],
   "source": [
    "df = df[df.year < 2020]"
   ]
  },
  {
   "cell_type": "markdown",
   "metadata": {},
   "source": [
    "## seaborn\n",
    "for easy/pretty plotting with pandas"
   ]
  },
  {
   "cell_type": "code",
   "execution_count": 30,
   "metadata": {},
   "outputs": [],
   "source": [
    "import seaborn as sns"
   ]
  },
  {
   "cell_type": "code",
   "execution_count": null,
   "metadata": {},
   "outputs": [],
   "source": [
    "sns.lineplot(data=df,x='year',y='count',hue='language')"
   ]
  },
  {
   "cell_type": "markdown",
   "metadata": {},
   "source": [
    "this seems silly to look back that far - let's limit to after python was developed, 1991:"
   ]
  },
  {
   "cell_type": "code",
   "execution_count": null,
   "metadata": {},
   "outputs": [],
   "source": []
  },
  {
   "cell_type": "markdown",
   "metadata": {},
   "source": [
    "also, we'll flip the order:"
   ]
  },
  {
   "cell_type": "code",
   "execution_count": null,
   "metadata": {},
   "outputs": [],
   "source": [
    "sns.lineplot(data=df,x='year',y='count',hue='language',hue_order=['MATLAB','python'])"
   ]
  },
  {
   "cell_type": "markdown",
   "metadata": {},
   "source": [
    "you can of course control every aspect of these plots. for example, colors!"
   ]
  },
  {
   "cell_type": "code",
   "execution_count": null,
   "metadata": {},
   "outputs": [],
   "source": [
    "sns.set_palette(sns.color_palette('colorblind')[::-1])\n",
    "sns.lineplot(data=df,x='year',y='count',hue='language',hue_order=['MATLAB','python'])"
   ]
  },
  {
   "cell_type": "code",
   "execution_count": null,
   "metadata": {},
   "outputs": [],
   "source": []
  },
  {
   "cell_type": "markdown",
   "metadata": {},
   "source": [
    "## Flow control\n",
    "To script things (make function, automate the boring stuff, etc), we need to know the syntax for \"flow control\". This means things like ```if``` statements and ```for``` loops. We'll do examples of those, as well as put some of that into a function we define.\n",
    "<br><br>\n",
    "Let's go back to a variabile we had before, ```group_of_things```"
   ]
  },
  {
   "cell_type": "code",
   "execution_count": 49,
   "metadata": {},
   "outputs": [
    {
     "data": {
      "text/plain": [
       "[12, 3.0, 'some letters']"
      ]
     },
     "execution_count": 49,
     "metadata": {},
     "output_type": "execute_result"
    }
   ],
   "source": [
    "group_of_things"
   ]
  },
  {
   "cell_type": "code",
   "execution_count": null,
   "metadata": {},
   "outputs": [],
   "source": []
  },
  {
   "cell_type": "markdown",
   "metadata": {},
   "source": [
    "Let's say we want to print only the non-string things in ```group of things```. We'll make a ```for``` loop with an ```if``` statement"
   ]
  },
  {
   "cell_type": "code",
   "execution_count": null,
   "metadata": {},
   "outputs": [],
   "source": []
  },
  {
   "cell_type": "markdown",
   "metadata": {},
   "source": [
    "What if we want to do the same thing for a different list? "
   ]
  },
  {
   "cell_type": "code",
   "execution_count": null,
   "metadata": {},
   "outputs": [],
   "source": [
    "another_list = list(dict_of_things.values())\n",
    "print(another_list)"
   ]
  },
  {
   "cell_type": "markdown",
   "metadata": {},
   "source": [
    "we could copy and paste, or we could put the flow control we have already written in a function:"
   ]
  },
  {
   "cell_type": "code",
   "execution_count": null,
   "metadata": {},
   "outputs": [],
   "source": []
  }
 ],
 "metadata": {
  "kernelspec": {
   "display_name": "Python 3",
   "language": "python",
   "name": "python3"
  },
  "language_info": {
   "codemirror_mode": {
    "name": "ipython",
    "version": 3
   },
   "file_extension": ".py",
   "mimetype": "text/x-python",
   "name": "python",
   "nbconvert_exporter": "python",
   "pygments_lexer": "ipython3",
   "version": "3.7.15"
  }
 },
 "nbformat": 4,
 "nbformat_minor": 4
}
