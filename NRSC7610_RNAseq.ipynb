{
 "cells": [
  {
   "cell_type": "markdown",
   "metadata": {},
   "source": [
    "# RNA Seq Analysis with Python\n",
    "#### The RNA-Seq data here are all from oligodendrocytes, downloaded using [ARCHS4](https://amp.pharm.mssm.edu/archs4/index.html). The data come from various papers\n",
    "#### the goals will be to:\n",
    "1. get some data\n",
    "2. count some genes and transcripts\n",
    "3. make a t-SNE visualization\n",
    "4. ???\n",
    "\n",
    "#### imports of things we will need for this notebook"
   ]
  },
  {
   "cell_type": "code",
   "execution_count": 2,
   "metadata": {},
   "outputs": [],
   "source": [
    "import numpy as np\n",
    "import os,sys,glob\n",
    "import pandas as pd\n",
    "import seaborn as sns"
   ]
  },
  {
   "cell_type": "markdown",
   "metadata": {},
   "source": [
    "load some RNASeq data. "
   ]
  },
  {
   "cell_type": "code",
   "execution_count": 4,
   "metadata": {},
   "outputs": [],
   "source": [
    "df = pd.read_csv('/Users/danieljdenman/gigantum/danieljdenman/danieljdenman/labbooks/nrsc7601/input/Oligodendrocyte_expression_matrix.tsv',sep=\"\\t\")"
   ]
  },
  {
   "cell_type": "code",
   "execution_count": 5,
   "metadata": {},
   "outputs": [
    {
     "data": {
      "text/html": [
       "<div>\n",
       "<style scoped>\n",
       "    .dataframe tbody tr th:only-of-type {\n",
       "        vertical-align: middle;\n",
       "    }\n",
       "\n",
       "    .dataframe tbody tr th {\n",
       "        vertical-align: top;\n",
       "    }\n",
       "\n",
       "    .dataframe thead th {\n",
       "        text-align: right;\n",
       "    }\n",
       "</style>\n",
       "<table border=\"1\" class=\"dataframe\">\n",
       "  <thead>\n",
       "    <tr style=\"text-align: right;\">\n",
       "      <th></th>\n",
       "      <th>GSM1930866</th>\n",
       "      <th>GSM1930875</th>\n",
       "      <th>GSM1930871</th>\n",
       "      <th>GSM1930867</th>\n",
       "      <th>GSM1930870</th>\n",
       "      <th>GSM1930879</th>\n",
       "      <th>GSM1930872</th>\n",
       "      <th>GSM1930869</th>\n",
       "      <th>GSM1930877</th>\n",
       "      <th>GSM1930865</th>\n",
       "      <th>...</th>\n",
       "      <th>GSM2089670</th>\n",
       "      <th>GSM2083751</th>\n",
       "      <th>GSM2089663</th>\n",
       "      <th>GSM2089669</th>\n",
       "      <th>GSM2089668</th>\n",
       "      <th>GSM2089664</th>\n",
       "      <th>GSM2186592</th>\n",
       "      <th>GSM2186593</th>\n",
       "      <th>GSM2186591</th>\n",
       "      <th>GSM2186594</th>\n",
       "    </tr>\n",
       "  </thead>\n",
       "  <tbody>\n",
       "    <tr>\n",
       "      <td>0610007P14Rik</td>\n",
       "      <td>1779</td>\n",
       "      <td>1853</td>\n",
       "      <td>2696</td>\n",
       "      <td>1660</td>\n",
       "      <td>3120</td>\n",
       "      <td>2199</td>\n",
       "      <td>2410</td>\n",
       "      <td>1908</td>\n",
       "      <td>1309</td>\n",
       "      <td>1901</td>\n",
       "      <td>...</td>\n",
       "      <td>4751</td>\n",
       "      <td>830</td>\n",
       "      <td>5328</td>\n",
       "      <td>4560</td>\n",
       "      <td>6353</td>\n",
       "      <td>5937</td>\n",
       "      <td>1840</td>\n",
       "      <td>1664</td>\n",
       "      <td>1507</td>\n",
       "      <td>1897</td>\n",
       "    </tr>\n",
       "    <tr>\n",
       "      <td>0610009B22Rik</td>\n",
       "      <td>1103</td>\n",
       "      <td>1356</td>\n",
       "      <td>1297</td>\n",
       "      <td>950</td>\n",
       "      <td>1512</td>\n",
       "      <td>1206</td>\n",
       "      <td>1382</td>\n",
       "      <td>1194</td>\n",
       "      <td>1013</td>\n",
       "      <td>1079</td>\n",
       "      <td>...</td>\n",
       "      <td>1144</td>\n",
       "      <td>214</td>\n",
       "      <td>745</td>\n",
       "      <td>1149</td>\n",
       "      <td>1213</td>\n",
       "      <td>938</td>\n",
       "      <td>239</td>\n",
       "      <td>198</td>\n",
       "      <td>214</td>\n",
       "      <td>267</td>\n",
       "    </tr>\n",
       "    <tr>\n",
       "      <td>0610009L18Rik</td>\n",
       "      <td>94</td>\n",
       "      <td>96</td>\n",
       "      <td>162</td>\n",
       "      <td>79</td>\n",
       "      <td>170</td>\n",
       "      <td>109</td>\n",
       "      <td>178</td>\n",
       "      <td>82</td>\n",
       "      <td>76</td>\n",
       "      <td>61</td>\n",
       "      <td>...</td>\n",
       "      <td>107</td>\n",
       "      <td>7</td>\n",
       "      <td>65</td>\n",
       "      <td>105</td>\n",
       "      <td>113</td>\n",
       "      <td>69</td>\n",
       "      <td>62</td>\n",
       "      <td>55</td>\n",
       "      <td>53</td>\n",
       "      <td>70</td>\n",
       "    </tr>\n",
       "    <tr>\n",
       "      <td>0610009O20Rik</td>\n",
       "      <td>1874</td>\n",
       "      <td>2007</td>\n",
       "      <td>2288</td>\n",
       "      <td>1919</td>\n",
       "      <td>2439</td>\n",
       "      <td>2331</td>\n",
       "      <td>2366</td>\n",
       "      <td>1915</td>\n",
       "      <td>1551</td>\n",
       "      <td>2022</td>\n",
       "      <td>...</td>\n",
       "      <td>2609</td>\n",
       "      <td>1025</td>\n",
       "      <td>2272</td>\n",
       "      <td>2545</td>\n",
       "      <td>2559</td>\n",
       "      <td>2411</td>\n",
       "      <td>884</td>\n",
       "      <td>660</td>\n",
       "      <td>671</td>\n",
       "      <td>816</td>\n",
       "    </tr>\n",
       "    <tr>\n",
       "      <td>0610010F05Rik</td>\n",
       "      <td>1483</td>\n",
       "      <td>1432</td>\n",
       "      <td>1330</td>\n",
       "      <td>1271</td>\n",
       "      <td>1215</td>\n",
       "      <td>1378</td>\n",
       "      <td>1461</td>\n",
       "      <td>1442</td>\n",
       "      <td>1577</td>\n",
       "      <td>1215</td>\n",
       "      <td>...</td>\n",
       "      <td>2207</td>\n",
       "      <td>945</td>\n",
       "      <td>2703</td>\n",
       "      <td>2283</td>\n",
       "      <td>2463</td>\n",
       "      <td>2794</td>\n",
       "      <td>959</td>\n",
       "      <td>696</td>\n",
       "      <td>826</td>\n",
       "      <td>936</td>\n",
       "    </tr>\n",
       "  </tbody>\n",
       "</table>\n",
       "<p>5 rows × 36 columns</p>\n",
       "</div>"
      ],
      "text/plain": [
       "               GSM1930866  GSM1930875  GSM1930871  GSM1930867  GSM1930870  \\\n",
       "0610007P14Rik        1779        1853        2696        1660        3120   \n",
       "0610009B22Rik        1103        1356        1297         950        1512   \n",
       "0610009L18Rik          94          96         162          79         170   \n",
       "0610009O20Rik        1874        2007        2288        1919        2439   \n",
       "0610010F05Rik        1483        1432        1330        1271        1215   \n",
       "\n",
       "               GSM1930879  GSM1930872  GSM1930869  GSM1930877  GSM1930865  \\\n",
       "0610007P14Rik        2199        2410        1908        1309        1901   \n",
       "0610009B22Rik        1206        1382        1194        1013        1079   \n",
       "0610009L18Rik         109         178          82          76          61   \n",
       "0610009O20Rik        2331        2366        1915        1551        2022   \n",
       "0610010F05Rik        1378        1461        1442        1577        1215   \n",
       "\n",
       "               ...  GSM2089670  GSM2083751  GSM2089663  GSM2089669  \\\n",
       "0610007P14Rik  ...        4751         830        5328        4560   \n",
       "0610009B22Rik  ...        1144         214         745        1149   \n",
       "0610009L18Rik  ...         107           7          65         105   \n",
       "0610009O20Rik  ...        2609        1025        2272        2545   \n",
       "0610010F05Rik  ...        2207         945        2703        2283   \n",
       "\n",
       "               GSM2089668  GSM2089664  GSM2186592  GSM2186593  GSM2186591  \\\n",
       "0610007P14Rik        6353        5937        1840        1664        1507   \n",
       "0610009B22Rik        1213         938         239         198         214   \n",
       "0610009L18Rik         113          69          62          55          53   \n",
       "0610009O20Rik        2559        2411         884         660         671   \n",
       "0610010F05Rik        2463        2794         959         696         826   \n",
       "\n",
       "               GSM2186594  \n",
       "0610007P14Rik        1897  \n",
       "0610009B22Rik         267  \n",
       "0610009L18Rik          70  \n",
       "0610009O20Rik         816  \n",
       "0610010F05Rik         936  \n",
       "\n",
       "[5 rows x 36 columns]"
      ]
     },
     "execution_count": 5,
     "metadata": {},
     "output_type": "execute_result"
    }
   ],
   "source": [
    "df.head()"
   ]
  },
  {
   "cell_type": "code",
   "execution_count": 57,
   "metadata": {},
   "outputs": [],
   "source": [
    "df_sub = df.sample(frac=0.01, replace=False, random_state=3)"
   ]
  },
  {
   "cell_type": "code",
   "execution_count": 58,
   "metadata": {},
   "outputs": [
    {
     "data": {
      "text/plain": [
       "<matplotlib.axes._subplots.AxesSubplot at 0x7f39d958a128>"
      ]
     },
     "execution_count": 58,
     "metadata": {},
     "output_type": "execute_result"
    },
    {
     "data": {
      "image/png": "[encoded data removed]",
      "text/plain": [
       "<Figure size 432x288 with 2 Axes>"
      ]
     },
     "metadata": {
      "needs_background": "light"
     },
     "output_type": "display_data"
    }
   ],
   "source": [
    "sns.heatmap(df_sub)"
   ]
  },
  {
   "cell_type": "code",
   "execution_count": 44,
   "metadata": {},
   "outputs": [
    {
     "data": {
      "text/plain": [
       "array([  187,   191,   105,   205,    79,   123,   119,   198,   289,\n",
       "         124,   263,    87,   113,   139,    76,   109,   127,    98,\n",
       "          88,   292,  5858,   405,  1505,  5636,   553,  6621,  5967,\n",
       "         322, 12217,  5847,  6463,  6622,  1026,   814,   809,  1095])"
      ]
     },
     "execution_count": 44,
     "metadata": {},
     "output_type": "execute_result"
    }
   ],
   "source": [
    "df[df.index=='Myc'].values[0]"
   ]
  },
  {
   "cell_type": "code",
   "execution_count": 47,
   "metadata": {},
   "outputs": [
    {
     "data": {
      "text/plain": [
       "<matplotlib.axes._subplots.AxesSubplot at 0x7f39d99d5940>"
      ]
     },
     "execution_count": 47,
     "metadata": {},
     "output_type": "execute_result"
    },
    {
     "data": {
      "image/png": "[encoded data removed]",
      "text/plain": [
       "<Figure size 432x288 with 1 Axes>"
      ]
     },
     "metadata": {
      "needs_background": "light"
     },
     "output_type": "display_data"
    }
   ],
   "source": [
    "sns.lineplot(x=np.arange(df.shape[1]), y=df[df.index=='0610009B22Rik'].values[0])"
   ]
  },
  {
   "cell_type": "markdown",
   "metadata": {},
   "source": [
    "look up an mRNA that should be expressed in oligodendrocytes. what's the reference? enter it in a Markdown cell below:"
   ]
  },
  {
   "cell_type": "code",
   "execution_count": null,
   "metadata": {},
   "outputs": [],
   "source": [
    "#change this cell to markdown and enter the gene name and reference "
   ]
  },
  {
   "cell_type": "markdown",
   "metadata": {},
   "source": [
    "find the gene in outheer data frame"
   ]
  },
  {
   "cell_type": "code",
   "execution_count": null,
   "metadata": {},
   "outputs": [],
   "source": []
  },
  {
   "cell_type": "markdown",
   "metadata": {},
   "source": [
    "how many of the datasets is it expressed in?"
   ]
  },
  {
   "cell_type": "code",
   "execution_count": null,
   "metadata": {},
   "outputs": [],
   "source": []
  },
  {
   "cell_type": "code",
   "execution_count": 64,
   "metadata": {},
   "outputs": [],
   "source": [
    "import time\n",
    "from sklearn.manifold import TSNE\n",
    "import matplotlib.pyplot as plt"
   ]
  },
  {
   "cell_type": "code",
   "execution_count": 73,
   "metadata": {},
   "outputs": [],
   "source": [
    "data_subset = df#.sample(10000)"
   ]
  },
  {
   "cell_type": "code",
   "execution_count": 74,
   "metadata": {},
   "outputs": [
    {
     "name": "stdout",
     "output_type": "stream",
     "text": [
      "[t-SNE] Computing 121 nearest neighbors...\n",
      "[t-SNE] Indexed 32544 samples in 0.346s...\n",
      "[t-SNE] Computed neighbors for 32544 samples in 18.356s...\n",
      "[t-SNE] Computed conditional probabilities for sample 1000 / 32544\n",
      "[t-SNE] Computed conditional probabilities for sample 2000 / 32544\n",
      "[t-SNE] Computed conditional probabilities for sample 3000 / 32544\n",
      "[t-SNE] Computed conditional probabilities for sample 4000 / 32544\n",
      "[t-SNE] Computed conditional probabilities for sample 5000 / 32544\n",
      "[t-SNE] Computed conditional probabilities for sample 6000 / 32544\n",
      "[t-SNE] Computed conditional probabilities for sample 7000 / 32544\n",
      "[t-SNE] Computed conditional probabilities for sample 8000 / 32544\n",
      "[t-SNE] Computed conditional probabilities for sample 9000 / 32544\n",
      "[t-SNE] Computed conditional probabilities for sample 10000 / 32544\n",
      "[t-SNE] Computed conditional probabilities for sample 11000 / 32544\n",
      "[t-SNE] Computed conditional probabilities for sample 12000 / 32544\n",
      "[t-SNE] Computed conditional probabilities for sample 13000 / 32544\n",
      "[t-SNE] Computed conditional probabilities for sample 14000 / 32544\n",
      "[t-SNE] Computed conditional probabilities for sample 15000 / 32544\n",
      "[t-SNE] Computed conditional probabilities for sample 16000 / 32544\n",
      "[t-SNE] Computed conditional probabilities for sample 17000 / 32544\n",
      "[t-SNE] Computed conditional probabilities for sample 18000 / 32544\n",
      "[t-SNE] Computed conditional probabilities for sample 19000 / 32544\n",
      "[t-SNE] Computed conditional probabilities for sample 20000 / 32544\n",
      "[t-SNE] Computed conditional probabilities for sample 21000 / 32544\n",
      "[t-SNE] Computed conditional probabilities for sample 22000 / 32544\n",
      "[t-SNE] Computed conditional probabilities for sample 23000 / 32544\n",
      "[t-SNE] Computed conditional probabilities for sample 24000 / 32544\n",
      "[t-SNE] Computed conditional probabilities for sample 25000 / 32544\n",
      "[t-SNE] Computed conditional probabilities for sample 26000 / 32544\n",
      "[t-SNE] Computed conditional probabilities for sample 27000 / 32544\n",
      "[t-SNE] Computed conditional probabilities for sample 28000 / 32544\n",
      "[t-SNE] Computed conditional probabilities for sample 29000 / 32544\n",
      "[t-SNE] Computed conditional probabilities for sample 30000 / 32544\n",
      "[t-SNE] Computed conditional probabilities for sample 31000 / 32544\n",
      "[t-SNE] Computed conditional probabilities for sample 32000 / 32544\n",
      "[t-SNE] Computed conditional probabilities for sample 32544 / 32544\n",
      "[t-SNE] Mean sigma: 0.000000\n",
      "[t-SNE] KL divergence after 250 iterations with early exaggeration: 81.654266\n",
      "[t-SNE] KL divergence after 300 iterations: 3.501045\n",
      "t-SNE done! Time elapsed: 355.9265742301941 seconds\n"
     ]
    }
   ],
   "source": [
    "time_start = time.time()\n",
    "tsne = TSNE(n_components=2, verbose=1, perplexity=40, n_iter=300)\n",
    "tsne_results = tsne.fit_transform(data_subset)\n",
    "print('t-SNE done! Time elapsed: {} seconds'.format(time.time()-time_start))"
   ]
  },
  {
   "cell_type": "code",
   "execution_count": 75,
   "metadata": {},
   "outputs": [
    {
     "data": {
      "text/plain": [
       "<matplotlib.collections.PathCollection at 0x7f39d43aa2b0>"
      ]
     },
     "execution_count": 75,
     "metadata": {},
     "output_type": "execute_result"
    },
    {
     "data": {
      "image/png": "[encoded data removed]",
      "text/plain": [
       "<Figure size 432x288 with 1 Axes>"
      ]
     },
     "metadata": {
      "needs_background": "light"
     },
     "output_type": "display_data"
    }
   ],
   "source": [
    "plt.scatter(tsne_results[:,0],tsne_results[:,1])"
   ]
  },
  {
   "cell_type": "code",
   "execution_count": 1,
   "metadata": {},
   "outputs": [],
   "source": [
    "import scanpy"
   ]
  },
  {
   "cell_type": "code",
   "execution_count": null,
   "metadata": {},
   "outputs": [],
   "source": []
  }
 ],
 "metadata": {
  "kernelspec": {
   "display_name": "Python 3",
   "language": "python",
   "name": "python3"
  },
  "language_info": {
   "codemirror_mode": {
    "name": "ipython",
    "version": 3
   },
   "file_extension": ".py",
   "mimetype": "text/x-python",
   "name": "python",
   "nbconvert_exporter": "python",
   "pygments_lexer": "ipython3",
   "version": "3.7.4"
  }
 },
 "nbformat": 4,
 "nbformat_minor": 4
}
