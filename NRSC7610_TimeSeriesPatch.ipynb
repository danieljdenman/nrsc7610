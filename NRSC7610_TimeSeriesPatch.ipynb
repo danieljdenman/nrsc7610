{
 "cells": [
  {
   "cell_type": "markdown",
   "metadata": {},
   "source": [
    "# Time Series - Patch Clamp Analysis with Python in a Jupyter notebook\n",
    "#### We're going to use data from the Allen Institute for Brain Science Cell Types project. This is patch clamp data data collected in several cortical areas in the mouse brain. We'll get the data using the [Allen Software Development Kit](https://allensdk.readthedocs.io/en/latest/), which Python to programmatically access [this data](https://allensdk.readthedocs.io/en/latest/cell_types.html). From the Allen documentation:\n",
    "\"Whole cell patch clamp recordings provide basic information about cell firing properties. Recordings are\n",
    "performed using a range of stimulus protocols, including short pulses, long steps, slow ramps, and naturalistic\n",
    "noise to characterize the intrinsic properties of these neurons...Electrophysiological data collected from individual whole-cell recordings consisted of high temporal resolution time series of membrane potential (in current-clamp mode) and trans-membrane current measurements (in voltage-clamp mode). For the Allen Cell Types Database, the data were primarily collected in current-clamp mode to determine the basic subthreshold and suprathreshold electrical behavior of various cell types.\"\n",
    "\n",
    "#### For this exercise, some of the code is pre-written, and you will simply execute it. In other cases, you will be prompted to write some code lines to advance towards this goal. **There are going to be 7 such prompts, always bolded** plus some bonus challenges if you want to keep going. \n",
    "Here is an example of what we are trying to to do:"
   ]
  },
  {
   "cell_type": "markdown",
   "metadata": {},
   "source": [
    "![Family of traces](./res/family_traces.png)"
   ]
  },
  {
   "cell_type": "markdown",
   "metadata": {},
   "source": [
    "## Imports of packages we will need for this notebook. \n",
    "#### All are standard and those that we have talked about, plus the AllenSDK for gettting the data\n",
    "(and a bit of code to suppress an distracting warning that gets produced by a package the AllenSDK uses)"
   ]
  },
  {
   "cell_type": "code",
   "execution_count": 1,
   "metadata": {},
   "outputs": [],
   "source": [
    "import numpy as np\n",
    "import os,sys\n",
    "import matplotlib.pyplot as plt\n",
    "from allensdk.core.cell_types_cache import CellTypesCache\n",
    "import warnings\n",
    "warnings.filterwarnings('ignore')"
   ]
  },
  {
   "cell_type": "markdown",
   "metadata": {},
   "source": [
    "### Now we will get the Neuropixels data from the Allen Institute servers. "
   ]
  },
  {
   "cell_type": "code",
   "execution_count": 2,
   "metadata": {},
   "outputs": [],
   "source": [
    "ctc = CellTypesCache()\n",
    "cell_specimen_id = 464212183\n",
    "data_set = ctc.get_ephys_data(cell_specimen_id)\n",
    "sweeps = ctc.get_ephys_sweeps(cell_specimen_id)"
   ]
  },
  {
   "cell_type": "code",
   "execution_count": 3,
   "metadata": {},
   "outputs": [
    {
     "name": "stdout",
     "output_type": "stream",
     "text": [
      "['CELLS_KEY', 'EPHYS_DATA_KEY', 'EPHYS_FEATURES_KEY', 'EPHYS_SWEEPS_KEY', 'MANIFEST_VERSION', 'MARKER_KEY', 'MORPHOLOGY_FEATURES_KEY', 'RECONSTRUCTION_KEY', 'add_manifest_paths', 'api', 'build_manifest', 'cache', 'cache_csv', 'cache_csv_dataframe', 'cache_csv_json', 'cache_json', 'cache_json_dataframe', 'cacher', 'csv_writer', 'get_all_features', 'get_cache_path', 'get_cells', 'get_ephys_data', 'get_ephys_features', 'get_ephys_sweeps', 'get_morphology_features', 'get_reconstruction', 'get_reconstruction_markers', 'json_remove_keys', 'json_rename_columns', 'load_csv', 'load_json', 'load_manifest', 'manifest', 'manifest_dataframe', 'manifest_path', 'nocache_dataframe', 'nocache_json', 'pathfinder', 'remove_keys', 'rename_columns', 'wrap']\n"
     ]
    }
   ],
   "source": [
    "print([attr_or_method for attr_or_method in dir(ctc) if attr_or_method[0] != '_'])"
   ]
  },
  {
   "cell_type": "markdown",
   "metadata": {},
   "source": [
    " What type of data is ```data_set```?"
   ]
  },
  {
   "cell_type": "code",
   "execution_count": 4,
   "metadata": {},
   "outputs": [
    {
     "data": {
      "text/plain": [
       "allensdk.core.nwb_data_set.NwbDataSet"
      ]
     },
     "execution_count": 4,
     "metadata": {},
     "output_type": "execute_result"
    }
   ],
   "source": [
    "type(data_set)"
   ]
  },
  {
   "cell_type": "markdown",
   "metadata": {},
   "source": [
    "This is a data object that is not a basic type! what is an \"NwbDataSet\"? it's a class object defined by the AllenSDK. classes have functions (methods) of their own, and attributes. both are accessed with by putting a ```.``` after the class object. here's funky line that will tell us what all of the attributes of ```session``` object:"
   ]
  },
  {
   "cell_type": "code",
   "execution_count": 5,
   "metadata": {},
   "outputs": [
    {
     "name": "stdout",
     "output_type": "stream",
     "text": [
      "['DEPRECATED_SPIKE_TIMES', 'SPIKE_TIMES', 'file_name', 'fill_sweep_responses', 'get_experiment_sweep_numbers', 'get_pipeline_version', 'get_spike_times', 'get_sweep', 'get_sweep_metadata', 'get_sweep_numbers', 'set_spike_times', 'set_sweep', 'spike_time_key']\n"
     ]
    }
   ],
   "source": [
    "print([attr_or_method for attr_or_method in dir(data_set) if attr_or_method[0] != '_'])"
   ]
  },
  {
   "cell_type": "markdown",
   "metadata": {},
   "source": [
    "Now we can see, above, the attribues and methods in ```data_set```. \n",
    "<br>Some of these may, or may not, be descriptive and informative to you. If you want to dive in to the whole thing, there is information on [this webpage](http://celltypes.brain-map.org/) and in [this pdf](http://help.brain-map.org/download/attachments/8323525/CellTypes_Ephys_Overview.pdf). "
   ]
  },
  {
   "cell_type": "markdown",
   "metadata": {},
   "source": [
    "<br>Before we move on, let's make sure we understand this key concept of a \"sweep\" as in the attribues ```'get_sweep'```,``` 'get_sweep_metadata', ``` and ```'get_sweep_numbers'``` in ```data_set``` above.\n",
    "<br>A sweep is a high temporal resolution time series of membrane potential, and the correspending injected current. Here is an example of one swee, in this case sweep number 30:"
   ]
  },
  {
   "cell_type": "code",
   "execution_count": 6,
   "metadata": {},
   "outputs": [
    {
     "data": {
      "text/plain": [
       "Text(0.5, 0, 'seconds')"
      ]
     },
     "execution_count": 6,
     "metadata": {},
     "output_type": "execute_result"
    },
    {
     "data": {
      "image/png": "[encoded data removed]",
      "text/plain": [
       "<Figure size 432x288 with 2 Axes>"
      ]
     },
     "metadata": {
      "needs_background": "light"
     },
     "output_type": "display_data"
    }
   ],
   "source": [
    "sweep_data = data_set.get_sweep(30)\n",
    "\n",
    "i = sweep_data[\"stimulus\"][0:sweep_data[\"index_range\"][1]+1] # in A\n",
    "v = sweep_data[\"response\"][0:sweep_data[\"index_range\"][1]+1] # in V\n",
    "i *= 1e12 # to pA\n",
    "v *= 1e3 # to mV\n",
    "\n",
    "sampling_rate = sweep_data[\"sampling_rate\"] # in Hz\n",
    "t = np.arange(0, len(v)) * (1.0 / sampling_rate)\n",
    "\n",
    "fig, axes = plt.subplots(2, 1, sharex=True)\n",
    "axes[0].plot(t, v, color='black')\n",
    "axes[1].plot(t, i, color='gray')\n",
    "axes[0].set_ylabel(\"mV\")\n",
    "axes[1].set_ylabel(\"pA\")\n",
    "axes[1].set_xlabel(\"seconds\")\n"
   ]
  },
  {
   "cell_type": "markdown",
   "metadata": {},
   "source": [
    "<br>**First question of this exercise:<br>Q1. What type of data is ```sweeps```? write some code that will give the answer in the cell below:**"
   ]
  },
  {
   "cell_type": "code",
   "execution_count": null,
   "metadata": {},
   "outputs": [],
   "source": []
  },
  {
   "cell_type": "markdown",
   "metadata": {},
   "source": [
    "That's a fine data type to use, but as we covered in the intro, the packages are what makes python powerful and a pandas DataFrame might be nice for searching for sweeps "
   ]
  },
  {
   "cell_type": "code",
   "execution_count": 10,
   "metadata": {},
   "outputs": [],
   "source": [
    "df_sweeps = pd.DataFrame(sweeps)"
   ]
  },
  {
   "cell_type": "markdown",
   "metadata": {},
   "source": [
    "Welp, that didn't work.<br>\n",
    "**Q2: why not? make the above cell work, without changing the code in the cell. add a cell above it, and then rerun the cell with ```df_sweeps = pd.DataFrame(sweeps)``` (or...if it did work...what had you done that made it work?)**"
   ]
  },
  {
   "cell_type": "markdown",
   "metadata": {},
   "source": [
    "A nice feature of pandas DataFrames, like ```df_sweeps``` is being able to glimps at what's in them. we'll use ```.head()``` to show us just the first five entries in ```df_sweeps```, that way we can read all of the columns and get a flavor:"
   ]
  },
  {
   "cell_type": "code",
   "execution_count": 11,
   "metadata": {},
   "outputs": [
    {
     "data": {
      "text/html": [
       "<div>\n",
       "<style scoped>\n",
       "    .dataframe tbody tr th:only-of-type {\n",
       "        vertical-align: middle;\n",
       "    }\n",
       "\n",
       "    .dataframe tbody tr th {\n",
       "        vertical-align: top;\n",
       "    }\n",
       "\n",
       "    .dataframe thead th {\n",
       "        text-align: right;\n",
       "    }\n",
       "</style>\n",
       "<table border=\"1\" class=\"dataframe\">\n",
       "  <thead>\n",
       "    <tr style=\"text-align: right;\">\n",
       "      <th></th>\n",
       "      <th>bridge_balance_mohm</th>\n",
       "      <th>id</th>\n",
       "      <th>leak_pa</th>\n",
       "      <th>num_spikes</th>\n",
       "      <th>peak_deflection</th>\n",
       "      <th>post_noise_rms_mv</th>\n",
       "      <th>post_vm_mv</th>\n",
       "      <th>pre_noise_rms_mv</th>\n",
       "      <th>pre_vm_mv</th>\n",
       "      <th>slow_noise_rms_mv</th>\n",
       "      <th>...</th>\n",
       "      <th>stimulus_absolute_amplitude</th>\n",
       "      <th>stimulus_description</th>\n",
       "      <th>stimulus_duration</th>\n",
       "      <th>stimulus_interval</th>\n",
       "      <th>stimulus_name</th>\n",
       "      <th>stimulus_relative_amplitude</th>\n",
       "      <th>stimulus_start_time</th>\n",
       "      <th>stimulus_units</th>\n",
       "      <th>sweep_number</th>\n",
       "      <th>vm_delta_mv</th>\n",
       "    </tr>\n",
       "  </thead>\n",
       "  <tbody>\n",
       "    <tr>\n",
       "      <th>0</th>\n",
       "      <td>0.000000</td>\n",
       "      <td>464306827</td>\n",
       "      <td>0.0</td>\n",
       "      <td>0.0</td>\n",
       "      <td>NaN</td>\n",
       "      <td>0.0</td>\n",
       "      <td>0.0</td>\n",
       "      <td>0.000000</td>\n",
       "      <td>0.000000</td>\n",
       "      <td>0.000000</td>\n",
       "      <td>...</td>\n",
       "      <td>10.000000</td>\n",
       "      <td>EXTPSMOKET141203[0]</td>\n",
       "      <td>0.069995</td>\n",
       "      <td>0.05</td>\n",
       "      <td>Test</td>\n",
       "      <td>1.0</td>\n",
       "      <td>0.0300</td>\n",
       "      <td>Volts</td>\n",
       "      <td>0</td>\n",
       "      <td>0.0</td>\n",
       "    </tr>\n",
       "    <tr>\n",
       "      <th>1</th>\n",
       "      <td>0.000000</td>\n",
       "      <td>464306829</td>\n",
       "      <td>0.0</td>\n",
       "      <td>0.0</td>\n",
       "      <td>NaN</td>\n",
       "      <td>0.0</td>\n",
       "      <td>0.0</td>\n",
       "      <td>0.000000</td>\n",
       "      <td>0.000000</td>\n",
       "      <td>0.000000</td>\n",
       "      <td>...</td>\n",
       "      <td>10.000000</td>\n",
       "      <td>EXTPINBATH141203[0]</td>\n",
       "      <td>0.069995</td>\n",
       "      <td>0.05</td>\n",
       "      <td>Test</td>\n",
       "      <td>1.0</td>\n",
       "      <td>0.0300</td>\n",
       "      <td>Volts</td>\n",
       "      <td>1</td>\n",
       "      <td>0.0</td>\n",
       "    </tr>\n",
       "    <tr>\n",
       "      <th>2</th>\n",
       "      <td>0.000000</td>\n",
       "      <td>464306863</td>\n",
       "      <td>0.0</td>\n",
       "      <td>0.0</td>\n",
       "      <td>NaN</td>\n",
       "      <td>0.0</td>\n",
       "      <td>0.0</td>\n",
       "      <td>0.000000</td>\n",
       "      <td>0.000000</td>\n",
       "      <td>0.000000</td>\n",
       "      <td>...</td>\n",
       "      <td>10.000000</td>\n",
       "      <td>EXTPCllATT141203[0]</td>\n",
       "      <td>0.069995</td>\n",
       "      <td>0.05</td>\n",
       "      <td>Test</td>\n",
       "      <td>1.0</td>\n",
       "      <td>0.0300</td>\n",
       "      <td>Volts</td>\n",
       "      <td>2</td>\n",
       "      <td>0.0</td>\n",
       "    </tr>\n",
       "    <tr>\n",
       "      <th>3</th>\n",
       "      <td>0.000000</td>\n",
       "      <td>464306885</td>\n",
       "      <td>0.0</td>\n",
       "      <td>0.0</td>\n",
       "      <td>NaN</td>\n",
       "      <td>0.0</td>\n",
       "      <td>0.0</td>\n",
       "      <td>0.000000</td>\n",
       "      <td>0.000000</td>\n",
       "      <td>0.000000</td>\n",
       "      <td>...</td>\n",
       "      <td>10.000000</td>\n",
       "      <td>EXTPBREAKN141203[0]</td>\n",
       "      <td>0.069995</td>\n",
       "      <td>0.05</td>\n",
       "      <td>Test</td>\n",
       "      <td>1.0</td>\n",
       "      <td>0.0300</td>\n",
       "      <td>Volts</td>\n",
       "      <td>3</td>\n",
       "      <td>0.0</td>\n",
       "    </tr>\n",
       "    <tr>\n",
       "      <th>4</th>\n",
       "      <td>16.178267</td>\n",
       "      <td>464306907</td>\n",
       "      <td>0.0</td>\n",
       "      <td>12.0</td>\n",
       "      <td>NaN</td>\n",
       "      <td>0.0</td>\n",
       "      <td>0.0</td>\n",
       "      <td>0.038605</td>\n",
       "      <td>-64.822418</td>\n",
       "      <td>0.155027</td>\n",
       "      <td>...</td>\n",
       "      <td>499.999986</td>\n",
       "      <td>C1RP25PR1S141203[0]</td>\n",
       "      <td>19.997495</td>\n",
       "      <td>NaN</td>\n",
       "      <td>Ramp</td>\n",
       "      <td>1.0</td>\n",
       "      <td>1.0225</td>\n",
       "      <td>Amps</td>\n",
       "      <td>4</td>\n",
       "      <td>0.0</td>\n",
       "    </tr>\n",
       "  </tbody>\n",
       "</table>\n",
       "<p>5 rows × 22 columns</p>\n",
       "</div>"
      ],
      "text/plain": [
       "   bridge_balance_mohm         id  leak_pa  num_spikes  peak_deflection  \\\n",
       "0             0.000000  464306827      0.0         0.0              NaN   \n",
       "1             0.000000  464306829      0.0         0.0              NaN   \n",
       "2             0.000000  464306863      0.0         0.0              NaN   \n",
       "3             0.000000  464306885      0.0         0.0              NaN   \n",
       "4            16.178267  464306907      0.0        12.0              NaN   \n",
       "\n",
       "   post_noise_rms_mv  post_vm_mv  pre_noise_rms_mv  pre_vm_mv  \\\n",
       "0                0.0         0.0          0.000000   0.000000   \n",
       "1                0.0         0.0          0.000000   0.000000   \n",
       "2                0.0         0.0          0.000000   0.000000   \n",
       "3                0.0         0.0          0.000000   0.000000   \n",
       "4                0.0         0.0          0.038605 -64.822418   \n",
       "\n",
       "   slow_noise_rms_mv  ...  stimulus_absolute_amplitude  stimulus_description  \\\n",
       "0           0.000000  ...                    10.000000   EXTPSMOKET141203[0]   \n",
       "1           0.000000  ...                    10.000000   EXTPINBATH141203[0]   \n",
       "2           0.000000  ...                    10.000000   EXTPCllATT141203[0]   \n",
       "3           0.000000  ...                    10.000000   EXTPBREAKN141203[0]   \n",
       "4           0.155027  ...                   499.999986   C1RP25PR1S141203[0]   \n",
       "\n",
       "   stimulus_duration stimulus_interval  stimulus_name  \\\n",
       "0           0.069995              0.05           Test   \n",
       "1           0.069995              0.05           Test   \n",
       "2           0.069995              0.05           Test   \n",
       "3           0.069995              0.05           Test   \n",
       "4          19.997495               NaN           Ramp   \n",
       "\n",
       "   stimulus_relative_amplitude stimulus_start_time  stimulus_units  \\\n",
       "0                          1.0              0.0300           Volts   \n",
       "1                          1.0              0.0300           Volts   \n",
       "2                          1.0              0.0300           Volts   \n",
       "3                          1.0              0.0300           Volts   \n",
       "4                          1.0              1.0225            Amps   \n",
       "\n",
       "   sweep_number vm_delta_mv  \n",
       "0             0         0.0  \n",
       "1             1         0.0  \n",
       "2             2         0.0  \n",
       "3             3         0.0  \n",
       "4             4         0.0  \n",
       "\n",
       "[5 rows x 22 columns]"
      ]
     },
     "execution_count": 11,
     "metadata": {},
     "output_type": "execute_result"
    }
   ],
   "source": [
    "df_sweeps.head()"
   ]
  },
  {
   "cell_type": "markdown",
   "metadata": {},
   "source": [
    "**Q3. How many sweeps, with any kind of current injection, were recorded done in this recording? write some code that will give the answer in the cell below:**\n",
    "_note: there is not one way to do this; there are several. any is fine! "
   ]
  },
  {
   "cell_type": "code",
   "execution_count": null,
   "metadata": {},
   "outputs": [],
   "source": []
  },
  {
   "cell_type": "markdown",
   "metadata": {},
   "source": [
    "What kind of stimuli were there in the sweeps? We find out from this DataFrame:"
   ]
  },
  {
   "cell_type": "code",
   "execution_count": 12,
   "metadata": {},
   "outputs": [
    {
     "data": {
      "text/plain": [
       "array(['Test', 'Ramp', 'Short Square', 'Long Square', 'Noise 1',\n",
       "       'Noise 2', 'Square - 0.5ms Subthreshold',\n",
       "       'Square - 2s Suprathreshold', 'Short Square - Triple',\n",
       "       'Short Square - Hold -80mV', 'Short Square - Hold -60mV',\n",
       "       'Ramp to Rheobase'], dtype=object)"
      ]
     },
     "execution_count": 12,
     "metadata": {},
     "output_type": "execute_result"
    }
   ],
   "source": [
    "df_sweeps.stimulus_name.unique()"
   ]
  },
  {
   "cell_type": "markdown",
   "metadata": {},
   "source": [
    "Let's focus on one type of sweep, the \"Long Square\" that we plotted above. First, let's find all of the sweeps with a \"Long Square\" current injection. Because we have a pandas DataFrame, we can easily filter it for \"Long Square\"s:"
   ]
  },
  {
   "cell_type": "code",
   "execution_count": 13,
   "metadata": {},
   "outputs": [
    {
     "data": {
      "text/html": [
       "<div>\n",
       "<style scoped>\n",
       "    .dataframe tbody tr th:only-of-type {\n",
       "        vertical-align: middle;\n",
       "    }\n",
       "\n",
       "    .dataframe tbody tr th {\n",
       "        vertical-align: top;\n",
       "    }\n",
       "\n",
       "    .dataframe thead th {\n",
       "        text-align: right;\n",
       "    }\n",
       "</style>\n",
       "<table border=\"1\" class=\"dataframe\">\n",
       "  <thead>\n",
       "    <tr style=\"text-align: right;\">\n",
       "      <th></th>\n",
       "      <th>bridge_balance_mohm</th>\n",
       "      <th>id</th>\n",
       "      <th>leak_pa</th>\n",
       "      <th>num_spikes</th>\n",
       "      <th>peak_deflection</th>\n",
       "      <th>post_noise_rms_mv</th>\n",
       "      <th>post_vm_mv</th>\n",
       "      <th>pre_noise_rms_mv</th>\n",
       "      <th>pre_vm_mv</th>\n",
       "      <th>slow_noise_rms_mv</th>\n",
       "      <th>...</th>\n",
       "      <th>stimulus_absolute_amplitude</th>\n",
       "      <th>stimulus_description</th>\n",
       "      <th>stimulus_duration</th>\n",
       "      <th>stimulus_interval</th>\n",
       "      <th>stimulus_name</th>\n",
       "      <th>stimulus_relative_amplitude</th>\n",
       "      <th>stimulus_start_time</th>\n",
       "      <th>stimulus_units</th>\n",
       "      <th>sweep_number</th>\n",
       "      <th>vm_delta_mv</th>\n",
       "    </tr>\n",
       "  </thead>\n",
       "  <tbody>\n",
       "    <tr>\n",
       "      <th>19</th>\n",
       "      <td>16.178267</td>\n",
       "      <td>464306861</td>\n",
       "      <td>0.0</td>\n",
       "      <td>NaN</td>\n",
       "      <td>-90.468750</td>\n",
       "      <td>0.040545</td>\n",
       "      <td>-65.220367</td>\n",
       "      <td>0.036236</td>\n",
       "      <td>-65.340881</td>\n",
       "      <td>0.161941</td>\n",
       "      <td>...</td>\n",
       "      <td>-110.000002</td>\n",
       "      <td>C1LSCOARSE141203[0]</td>\n",
       "      <td>0.999995</td>\n",
       "      <td>NaN</td>\n",
       "      <td>Long Square</td>\n",
       "      <td>1.0</td>\n",
       "      <td>1.02</td>\n",
       "      <td>Amps</td>\n",
       "      <td>19</td>\n",
       "      <td>0.120514</td>\n",
       "    </tr>\n",
       "    <tr>\n",
       "      <th>20</th>\n",
       "      <td>16.178267</td>\n",
       "      <td>464306865</td>\n",
       "      <td>0.0</td>\n",
       "      <td>NaN</td>\n",
       "      <td>-86.375008</td>\n",
       "      <td>0.026493</td>\n",
       "      <td>-65.300323</td>\n",
       "      <td>0.036994</td>\n",
       "      <td>-65.417938</td>\n",
       "      <td>0.099664</td>\n",
       "      <td>...</td>\n",
       "      <td>-90.000001</td>\n",
       "      <td>C1LSCOARSE141203[1]</td>\n",
       "      <td>0.999995</td>\n",
       "      <td>NaN</td>\n",
       "      <td>Long Square</td>\n",
       "      <td>1.0</td>\n",
       "      <td>1.02</td>\n",
       "      <td>Amps</td>\n",
       "      <td>20</td>\n",
       "      <td>0.117615</td>\n",
       "    </tr>\n",
       "    <tr>\n",
       "      <th>21</th>\n",
       "      <td>16.178267</td>\n",
       "      <td>464306867</td>\n",
       "      <td>0.0</td>\n",
       "      <td>NaN</td>\n",
       "      <td>-81.843750</td>\n",
       "      <td>0.038598</td>\n",
       "      <td>-65.479088</td>\n",
       "      <td>0.052365</td>\n",
       "      <td>-65.399506</td>\n",
       "      <td>0.205216</td>\n",
       "      <td>...</td>\n",
       "      <td>-69.999999</td>\n",
       "      <td>C1LSCOARSE141203[2]</td>\n",
       "      <td>0.999995</td>\n",
       "      <td>NaN</td>\n",
       "      <td>Long Square</td>\n",
       "      <td>1.0</td>\n",
       "      <td>1.02</td>\n",
       "      <td>Amps</td>\n",
       "      <td>21</td>\n",
       "      <td>0.079582</td>\n",
       "    </tr>\n",
       "    <tr>\n",
       "      <th>22</th>\n",
       "      <td>16.178267</td>\n",
       "      <td>464306869</td>\n",
       "      <td>0.0</td>\n",
       "      <td>NaN</td>\n",
       "      <td>-77.375000</td>\n",
       "      <td>0.034599</td>\n",
       "      <td>-65.679642</td>\n",
       "      <td>0.034971</td>\n",
       "      <td>-65.534737</td>\n",
       "      <td>0.142204</td>\n",
       "      <td>...</td>\n",
       "      <td>-50.000001</td>\n",
       "      <td>C1LSCOARSE141203[3]</td>\n",
       "      <td>0.999995</td>\n",
       "      <td>NaN</td>\n",
       "      <td>Long Square</td>\n",
       "      <td>1.0</td>\n",
       "      <td>1.02</td>\n",
       "      <td>Amps</td>\n",
       "      <td>22</td>\n",
       "      <td>0.144905</td>\n",
       "    </tr>\n",
       "    <tr>\n",
       "      <th>23</th>\n",
       "      <td>16.178267</td>\n",
       "      <td>464306871</td>\n",
       "      <td>0.0</td>\n",
       "      <td>NaN</td>\n",
       "      <td>-73.218750</td>\n",
       "      <td>0.035043</td>\n",
       "      <td>-65.885178</td>\n",
       "      <td>0.036563</td>\n",
       "      <td>-65.716438</td>\n",
       "      <td>0.116163</td>\n",
       "      <td>...</td>\n",
       "      <td>-29.999999</td>\n",
       "      <td>C1LSCOARSE141203[4]</td>\n",
       "      <td>0.999995</td>\n",
       "      <td>NaN</td>\n",
       "      <td>Long Square</td>\n",
       "      <td>1.0</td>\n",
       "      <td>1.02</td>\n",
       "      <td>Amps</td>\n",
       "      <td>23</td>\n",
       "      <td>0.168739</td>\n",
       "    </tr>\n",
       "  </tbody>\n",
       "</table>\n",
       "<p>5 rows × 22 columns</p>\n",
       "</div>"
      ],
      "text/plain": [
       "    bridge_balance_mohm         id  leak_pa  num_spikes  peak_deflection  \\\n",
       "19            16.178267  464306861      0.0         NaN       -90.468750   \n",
       "20            16.178267  464306865      0.0         NaN       -86.375008   \n",
       "21            16.178267  464306867      0.0         NaN       -81.843750   \n",
       "22            16.178267  464306869      0.0         NaN       -77.375000   \n",
       "23            16.178267  464306871      0.0         NaN       -73.218750   \n",
       "\n",
       "    post_noise_rms_mv  post_vm_mv  pre_noise_rms_mv  pre_vm_mv  \\\n",
       "19           0.040545  -65.220367          0.036236 -65.340881   \n",
       "20           0.026493  -65.300323          0.036994 -65.417938   \n",
       "21           0.038598  -65.479088          0.052365 -65.399506   \n",
       "22           0.034599  -65.679642          0.034971 -65.534737   \n",
       "23           0.035043  -65.885178          0.036563 -65.716438   \n",
       "\n",
       "    slow_noise_rms_mv  ...  stimulus_absolute_amplitude  stimulus_description  \\\n",
       "19           0.161941  ...                  -110.000002   C1LSCOARSE141203[0]   \n",
       "20           0.099664  ...                   -90.000001   C1LSCOARSE141203[1]   \n",
       "21           0.205216  ...                   -69.999999   C1LSCOARSE141203[2]   \n",
       "22           0.142204  ...                   -50.000001   C1LSCOARSE141203[3]   \n",
       "23           0.116163  ...                   -29.999999   C1LSCOARSE141203[4]   \n",
       "\n",
       "    stimulus_duration stimulus_interval  stimulus_name  \\\n",
       "19           0.999995               NaN    Long Square   \n",
       "20           0.999995               NaN    Long Square   \n",
       "21           0.999995               NaN    Long Square   \n",
       "22           0.999995               NaN    Long Square   \n",
       "23           0.999995               NaN    Long Square   \n",
       "\n",
       "    stimulus_relative_amplitude stimulus_start_time  stimulus_units  \\\n",
       "19                          1.0                1.02            Amps   \n",
       "20                          1.0                1.02            Amps   \n",
       "21                          1.0                1.02            Amps   \n",
       "22                          1.0                1.02            Amps   \n",
       "23                          1.0                1.02            Amps   \n",
       "\n",
       "    sweep_number vm_delta_mv  \n",
       "19            19    0.120514  \n",
       "20            20    0.117615  \n",
       "21            21    0.079582  \n",
       "22            22    0.144905  \n",
       "23            23    0.168739  \n",
       "\n",
       "[5 rows x 22 columns]"
      ]
     },
     "execution_count": 13,
     "metadata": {},
     "output_type": "execute_result"
    }
   ],
   "source": [
    "long_square_sweeps = df_sweeps[df_sweeps.stimulus_name == 'Long Square']\n",
    "long_square_sweeps.head()"
   ]
  },
  {
   "cell_type": "code",
   "execution_count": 14,
   "metadata": {},
   "outputs": [
    {
     "name": "stdout",
     "output_type": "stream",
     "text": [
      "Index(['bridge_balance_mohm', 'id', 'leak_pa', 'num_spikes', 'peak_deflection',\n",
      "       'post_noise_rms_mv', 'post_vm_mv', 'pre_noise_rms_mv', 'pre_vm_mv',\n",
      "       'slow_noise_rms_mv', 'slow_vm_mv', 'specimen_id',\n",
      "       'stimulus_absolute_amplitude', 'stimulus_description',\n",
      "       'stimulus_duration', 'stimulus_interval', 'stimulus_name',\n",
      "       'stimulus_relative_amplitude', 'stimulus_start_time', 'stimulus_units',\n",
      "       'sweep_number', 'vm_delta_mv'],\n",
      "      dtype='object')\n"
     ]
    }
   ],
   "source": [
    "print(long_square_sweeps.columns)"
   ]
  },
  {
   "cell_type": "markdown",
   "metadata": {},
   "source": [
    "**Q4: How many different amplitudes of long sqaure pulse were applied? Make a variable called ```amplitudes``` that contains the absolute ampltiudes, and measure how may entries are in this variable.**"
   ]
  },
  {
   "cell_type": "code",
   "execution_count": 15,
   "metadata": {},
   "outputs": [
    {
     "data": {
      "text/plain": [
       "20"
      ]
     },
     "execution_count": 15,
     "metadata": {},
     "output_type": "execute_result"
    }
   ],
   "source": [
    "amplitudes = long_square_sweeps.stimulus_absolute_amplitude.unique()\n",
    "len(amplitudes)"
   ]
  },
  {
   "cell_type": "markdown",
   "metadata": {},
   "source": [
    "**Q5: How long (in duration) was each of these sweeps? make a variable called ```duration``` and assign it your answer (in seconds)** _hint: look at the other column names in ```grating_stimuli```_"
   ]
  },
  {
   "cell_type": "markdown",
   "metadata": {},
   "source": [
    "Let's finish making our plot. We need to iterate over all of the presented sweeps. <br>\n",
    "**Q5: What are all of the sweep numers for Long Squares?**"
   ]
  },
  {
   "cell_type": "code",
   "execution_count": 16,
   "metadata": {},
   "outputs": [],
   "source": [
    "long_square_sweeps.sort_values('stimulus_absolute_amplitude',inplace=True)"
   ]
  },
  {
   "cell_type": "code",
   "execution_count": 17,
   "metadata": {},
   "outputs": [],
   "source": [
    "import seaborn as sns"
   ]
  },
  {
   "cell_type": "markdown",
   "metadata": {},
   "source": [
    "**Q7: plot the mean spike count as a function of direction**"
   ]
  },
  {
   "cell_type": "code",
   "execution_count": 31,
   "metadata": {},
   "outputs": [
    {
     "data": {
      "image/png": "[encoded data removed]",
      "text/plain": [
       "<Figure size 288x288 with 2 Axes>"
      ]
     },
     "metadata": {
      "needs_background": "light"
     },
     "output_type": "display_data"
    }
   ],
   "source": [
    "fig, axes = plt.subplots(2, 1, sharex=True,figsize=(4,4))\n",
    "for index,sweepnumber in enumerate(long_square_sweeps.sweep_number[::2]):\n",
    "    sweep_data = data_set.get_sweep(sweepnumber)\n",
    "    \n",
    "    i = sweep_data[\"stimulus\"][0:sweep_data[\"index_range\"][1]+1] # in A\n",
    "    v = sweep_data[\"response\"][0:sweep_data[\"index_range\"][1]+1] # in V\n",
    "    i *= 1e12 # to pA\n",
    "    v *= 1e3 # to mV\n",
    "    sampling_rate = sweep_data[\"sampling_rate\"] # in Hz\n",
    "    t = np.arange(0, len(v)) * (1.0 / sampling_rate)\n",
    "    axes[0].plot(t, v, color=sns.color_palette('Blues',11)[index])\n",
    "    axes[1].plot(t, i, color=sns.color_palette('Blues',11)[index])\n",
    "axes[0].set_ylabel(\"mV\")\n",
    "axes[1].set_ylabel(\"pA\")\n",
    "axes[1].set_xlabel(\"seconds\")\n",
    "for ax in axes:\n",
    "    ax.spines['right'].set_visible(False)\n",
    "    ax.spines['top'].set_visible(False)\n",
    "    ax.set_xlim(0.9,2.1)\n",
    "plt.tight_layout()\n",
    "plt.gcf().savefig('./res/family_traces.png',format='png')"
   ]
  },
  {
   "cell_type": "code",
   "execution_count": 32,
   "metadata": {},
   "outputs": [],
   "source": [
    "plt.close('all')"
   ]
  },
  {
   "cell_type": "markdown",
   "metadata": {},
   "source": [
    "**Q6: iterate over the stimulus directions again, but this time instead of printing them, count the number of spikes within the duration.** _hint: go back and look at how we got sweep data to plot our example above_"
   ]
  },
  {
   "cell_type": "code",
   "execution_count": null,
   "metadata": {},
   "outputs": [],
   "source": [
    "plt.plot(??????)"
   ]
  },
  {
   "cell_type": "markdown",
   "metadata": {},
   "source": [
    "**Q8: add error bars (standard deviation) to the plot from Q7. use plt.errorbar(), and note that you can measure the standard deviation of a list or array of spike counts with np.std()**<br> this may or may not take a few lines or cells to recompute the standard deviation. feel free to work below!"
   ]
  }
 ],
 "metadata": {
  "kernelspec": {
   "display_name": "Python 3",
   "language": "python",
   "name": "python3"
  },
  "language_info": {
   "codemirror_mode": {
    "name": "ipython",
    "version": 3
   },
   "file_extension": ".py",
   "mimetype": "text/x-python",
   "name": "python",
   "nbconvert_exporter": "python",
   "pygments_lexer": "ipython3",
   "version": "3.7.4"
  }
 },
 "nbformat": 4,
 "nbformat_minor": 4
}
