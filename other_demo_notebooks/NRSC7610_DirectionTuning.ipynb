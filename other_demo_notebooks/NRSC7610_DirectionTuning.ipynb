{
 "cells": [
  {
   "cell_type": "markdown",
   "metadata": {},
   "source": [
    "# Computing Direction Tuning with Python in a Jupyter notebook\n",
    "We're going to use data from [Siegle, Jia et al., bioRxiv 2019](https://www.biorxiv.org/content/10.1101/805010v1) for this notebook. This is Neuropixels data collected in several visual areas in the awake mouse brain, while the mouse is viewing visual stimuli. We'll get the data using the [Allen Software Development Kit](https://allensdk.readthedocs.io/en/latest/), which Python to programmatically access [this data](https://allensdk.readthedocs.io/en/latest/visual_coding_neuropixels.html). There are other example Jupyter notebooks, as well as more documentation for the SDK and Neuropixels datasets at the Allen SDK Neuropixels [link](https://allensdk.readthedocs.io/en/latest/visual_coding_neuropixels.html).\n",
    "<br>The goal will be to get some spikes times, some stimulus times, and plot direction tuning curves like this one on the right:. \n",
    "<br>\n"
   ]
  },
  {
   "cell_type": "markdown",
   "metadata": {},
   "source": [
    "![Hubel and Wiesel, 1968](./res/HW68_DS.jpg)"
   ]
  },
  {
   "cell_type": "markdown",
   "metadata": {},
   "source": [
    "##### Some of the code is pre-written, and you will simply execute it. In other cases, you will be prompted to write some code lines to advance towards this goal. **There are going to be 8 such prompts,** plus some bonus challenges if you want to keep going.\n",
    "\n",
    "## Imports of packages we will need for this notebook. \n",
    "#### All are standard and those that we have talked about, plus the AllenSDK for gettting the data"
   ]
  },
  {
   "cell_type": "code",
   "execution_count": 3,
   "metadata": {},
   "outputs": [],
   "source": [
    "import numpy as np\n",
    "import os,sys,glob\n",
    "from allensdk.brain_observatory.ecephys.ecephys_project_cache import EcephysProjectCache"
   ]
  },
  {
   "cell_type": "markdown",
   "metadata": {},
   "source": [
    "### Now we will get the Neuropixels data from the Allen Institute servers. \n",
    "The details of this are not critical, and can be ignored for now in order to get the rest of this notebook. There are some useful examples of working with a pandas DataFrame, and a desription of class objects for some slightly more advanced Pythoning. You can skip to the big\n",
    "# ==========================================================\n",
    "\n",
    "below if you'd like, but you have to run these cells first. So, some Jupyter practice: press ```Shift + Enter``` to run a cell and advance to the next one"
   ]
  },
  {
   "cell_type": "code",
   "execution_count": 63,
   "metadata": {},
   "outputs": [],
   "source": [
    "data_directory = '~/' \n",
    "manifest_path = os.path.join(data_directory, \"manifest.json\")\n",
    "cache = EcephysProjectCache.from_warehouse(manifest=manifest_path)\n",
    "sessions = cache.get_session_table()"
   ]
  },
  {
   "cell_type": "markdown",
   "metadata": {},
   "source": [
    "The important result of this  is that we will end up with a pandas DataFrame with sessions (i.e., recording sessions) in it:"
   ]
  },
  {
   "cell_type": "code",
   "execution_count": 3,
   "metadata": {},
   "outputs": [
    {
     "name": "stdout",
     "output_type": "stream",
     "text": [
      "Total number of sessions: 58\n"
     ]
    },
    {
     "data": {
      "text/html": [
       "<div>\n",
       "<style scoped>\n",
       "    .dataframe tbody tr th:only-of-type {\n",
       "        vertical-align: middle;\n",
       "    }\n",
       "\n",
       "    .dataframe tbody tr th {\n",
       "        vertical-align: top;\n",
       "    }\n",
       "\n",
       "    .dataframe thead th {\n",
       "        text-align: right;\n",
       "    }\n",
       "</style>\n",
       "<table border=\"1\" class=\"dataframe\">\n",
       "  <thead>\n",
       "    <tr style=\"text-align: right;\">\n",
       "      <th></th>\n",
       "      <th>published_at</th>\n",
       "      <th>specimen_id</th>\n",
       "      <th>session_type</th>\n",
       "      <th>age_in_days</th>\n",
       "      <th>sex</th>\n",
       "      <th>full_genotype</th>\n",
       "      <th>unit_count</th>\n",
       "      <th>channel_count</th>\n",
       "      <th>probe_count</th>\n",
       "      <th>ecephys_structure_acronyms</th>\n",
       "    </tr>\n",
       "    <tr>\n",
       "      <th>id</th>\n",
       "      <th></th>\n",
       "      <th></th>\n",
       "      <th></th>\n",
       "      <th></th>\n",
       "      <th></th>\n",
       "      <th></th>\n",
       "      <th></th>\n",
       "      <th></th>\n",
       "      <th></th>\n",
       "      <th></th>\n",
       "    </tr>\n",
       "  </thead>\n",
       "  <tbody>\n",
       "    <tr>\n",
       "      <th>715093703</th>\n",
       "      <td>2019-10-03T00:00:00Z</td>\n",
       "      <td>699733581</td>\n",
       "      <td>brain_observatory_1.1</td>\n",
       "      <td>118.0</td>\n",
       "      <td>M</td>\n",
       "      <td>Sst-IRES-Cre/wt;Ai32(RCL-ChR2(H134R)_EYFP)/wt</td>\n",
       "      <td>884</td>\n",
       "      <td>2219</td>\n",
       "      <td>6</td>\n",
       "      <td>[CA1, VISrl, nan, PO, LP, LGd, CA3, DG, VISl, ...</td>\n",
       "    </tr>\n",
       "    <tr>\n",
       "      <th>719161530</th>\n",
       "      <td>2019-10-03T00:00:00Z</td>\n",
       "      <td>703279284</td>\n",
       "      <td>brain_observatory_1.1</td>\n",
       "      <td>122.0</td>\n",
       "      <td>M</td>\n",
       "      <td>Sst-IRES-Cre/wt;Ai32(RCL-ChR2(H134R)_EYFP)/wt</td>\n",
       "      <td>755</td>\n",
       "      <td>2214</td>\n",
       "      <td>6</td>\n",
       "      <td>[TH, Eth, APN, POL, LP, DG, CA1, VISpm, nan, N...</td>\n",
       "    </tr>\n",
       "    <tr>\n",
       "      <th>721123822</th>\n",
       "      <td>2019-10-03T00:00:00Z</td>\n",
       "      <td>707296982</td>\n",
       "      <td>brain_observatory_1.1</td>\n",
       "      <td>125.0</td>\n",
       "      <td>M</td>\n",
       "      <td>Pvalb-IRES-Cre/wt;Ai32(RCL-ChR2(H134R)_EYFP)/wt</td>\n",
       "      <td>444</td>\n",
       "      <td>2229</td>\n",
       "      <td>6</td>\n",
       "      <td>[MB, SCig, PPT, NOT, DG, CA1, VISam, nan, LP, ...</td>\n",
       "    </tr>\n",
       "    <tr>\n",
       "      <th>732592105</th>\n",
       "      <td>2019-10-03T00:00:00Z</td>\n",
       "      <td>717038288</td>\n",
       "      <td>brain_observatory_1.1</td>\n",
       "      <td>100.0</td>\n",
       "      <td>M</td>\n",
       "      <td>wt/wt</td>\n",
       "      <td>824</td>\n",
       "      <td>1847</td>\n",
       "      <td>5</td>\n",
       "      <td>[grey, VISpm, nan, VISp, VISl, VISal, VISrl]</td>\n",
       "    </tr>\n",
       "    <tr>\n",
       "      <th>737581020</th>\n",
       "      <td>2019-10-03T00:00:00Z</td>\n",
       "      <td>718643567</td>\n",
       "      <td>brain_observatory_1.1</td>\n",
       "      <td>108.0</td>\n",
       "      <td>M</td>\n",
       "      <td>wt/wt</td>\n",
       "      <td>568</td>\n",
       "      <td>2218</td>\n",
       "      <td>6</td>\n",
       "      <td>[grey, VISmma, nan, VISpm, VISp, VISl, VISrl]</td>\n",
       "    </tr>\n",
       "  </tbody>\n",
       "</table>\n",
       "</div>"
      ],
      "text/plain": [
       "                   published_at  specimen_id           session_type  \\\n",
       "id                                                                    \n",
       "715093703  2019-10-03T00:00:00Z    699733581  brain_observatory_1.1   \n",
       "719161530  2019-10-03T00:00:00Z    703279284  brain_observatory_1.1   \n",
       "721123822  2019-10-03T00:00:00Z    707296982  brain_observatory_1.1   \n",
       "732592105  2019-10-03T00:00:00Z    717038288  brain_observatory_1.1   \n",
       "737581020  2019-10-03T00:00:00Z    718643567  brain_observatory_1.1   \n",
       "\n",
       "           age_in_days sex                                    full_genotype  \\\n",
       "id                                                                            \n",
       "715093703        118.0   M    Sst-IRES-Cre/wt;Ai32(RCL-ChR2(H134R)_EYFP)/wt   \n",
       "719161530        122.0   M    Sst-IRES-Cre/wt;Ai32(RCL-ChR2(H134R)_EYFP)/wt   \n",
       "721123822        125.0   M  Pvalb-IRES-Cre/wt;Ai32(RCL-ChR2(H134R)_EYFP)/wt   \n",
       "732592105        100.0   M                                            wt/wt   \n",
       "737581020        108.0   M                                            wt/wt   \n",
       "\n",
       "           unit_count  channel_count  probe_count  \\\n",
       "id                                                  \n",
       "715093703         884           2219            6   \n",
       "719161530         755           2214            6   \n",
       "721123822         444           2229            6   \n",
       "732592105         824           1847            5   \n",
       "737581020         568           2218            6   \n",
       "\n",
       "                                  ecephys_structure_acronyms  \n",
       "id                                                            \n",
       "715093703  [CA1, VISrl, nan, PO, LP, LGd, CA3, DG, VISl, ...  \n",
       "719161530  [TH, Eth, APN, POL, LP, DG, CA1, VISpm, nan, N...  \n",
       "721123822  [MB, SCig, PPT, NOT, DG, CA1, VISam, nan, LP, ...  \n",
       "732592105       [grey, VISpm, nan, VISp, VISl, VISal, VISrl]  \n",
       "737581020      [grey, VISmma, nan, VISpm, VISp, VISl, VISrl]  "
      ]
     },
     "execution_count": 3,
     "metadata": {},
     "output_type": "execute_result"
    }
   ],
   "source": [
    "print('Total number of sessions: ' + str(len(sessions)))\n",
    "sessions.head()"
   ]
  },
  {
   "cell_type": "markdown",
   "metadata": {},
   "source": [
    "Because this is a pandas dataframe, we can easilty search the values (for example, for genotype) and filter it (for example, for wild type C57s only, male, with a probe in primary visual cortex (VISp))"
   ]
  },
  {
   "cell_type": "markdown",
   "metadata": {},
   "source": [
    "For example, what kind of genoypes are there? we can query the pandas DataFrame ```sessions``` with ```.unique()``` to find all of the genotpyes in the DataFrame:"
   ]
  },
  {
   "cell_type": "code",
   "execution_count": 4,
   "metadata": {},
   "outputs": [
    {
     "data": {
      "text/plain": [
       "array(['Sst-IRES-Cre/wt;Ai32(RCL-ChR2(H134R)_EYFP)/wt',\n",
       "       'Pvalb-IRES-Cre/wt;Ai32(RCL-ChR2(H134R)_EYFP)/wt', 'wt/wt',\n",
       "       'Vip-IRES-Cre/wt;Ai32(RCL-ChR2(H134R)_EYFP)/wt'], dtype=object)"
      ]
     },
     "execution_count": 4,
     "metadata": {},
     "output_type": "execute_result"
    }
   ],
   "source": [
    "sessions.full_genotype.unique()"
   ]
  },
  {
   "cell_type": "code",
   "execution_count": 5,
   "metadata": {},
   "outputs": [
    {
     "data": {
      "text/html": [
       "<div>\n",
       "<style scoped>\n",
       "    .dataframe tbody tr th:only-of-type {\n",
       "        vertical-align: middle;\n",
       "    }\n",
       "\n",
       "    .dataframe tbody tr th {\n",
       "        vertical-align: top;\n",
       "    }\n",
       "\n",
       "    .dataframe thead th {\n",
       "        text-align: right;\n",
       "    }\n",
       "</style>\n",
       "<table border=\"1\" class=\"dataframe\">\n",
       "  <thead>\n",
       "    <tr style=\"text-align: right;\">\n",
       "      <th></th>\n",
       "      <th>published_at</th>\n",
       "      <th>specimen_id</th>\n",
       "      <th>session_type</th>\n",
       "      <th>age_in_days</th>\n",
       "      <th>sex</th>\n",
       "      <th>full_genotype</th>\n",
       "      <th>unit_count</th>\n",
       "      <th>channel_count</th>\n",
       "      <th>probe_count</th>\n",
       "      <th>ecephys_structure_acronyms</th>\n",
       "    </tr>\n",
       "    <tr>\n",
       "      <th>id</th>\n",
       "      <th></th>\n",
       "      <th></th>\n",
       "      <th></th>\n",
       "      <th></th>\n",
       "      <th></th>\n",
       "      <th></th>\n",
       "      <th></th>\n",
       "      <th></th>\n",
       "      <th></th>\n",
       "      <th></th>\n",
       "    </tr>\n",
       "  </thead>\n",
       "  <tbody>\n",
       "    <tr>\n",
       "      <th>732592105</th>\n",
       "      <td>2019-10-03T00:00:00Z</td>\n",
       "      <td>717038288</td>\n",
       "      <td>brain_observatory_1.1</td>\n",
       "      <td>100.0</td>\n",
       "      <td>M</td>\n",
       "      <td>wt/wt</td>\n",
       "      <td>824</td>\n",
       "      <td>1847</td>\n",
       "      <td>5</td>\n",
       "      <td>[grey, VISpm, nan, VISp, VISl, VISal, VISrl]</td>\n",
       "    </tr>\n",
       "    <tr>\n",
       "      <th>737581020</th>\n",
       "      <td>2019-10-03T00:00:00Z</td>\n",
       "      <td>718643567</td>\n",
       "      <td>brain_observatory_1.1</td>\n",
       "      <td>108.0</td>\n",
       "      <td>M</td>\n",
       "      <td>wt/wt</td>\n",
       "      <td>568</td>\n",
       "      <td>2218</td>\n",
       "      <td>6</td>\n",
       "      <td>[grey, VISmma, nan, VISpm, VISp, VISl, VISrl]</td>\n",
       "    </tr>\n",
       "    <tr>\n",
       "      <th>739448407</th>\n",
       "      <td>2019-10-03T00:00:00Z</td>\n",
       "      <td>716813543</td>\n",
       "      <td>brain_observatory_1.1</td>\n",
       "      <td>112.0</td>\n",
       "      <td>M</td>\n",
       "      <td>wt/wt</td>\n",
       "      <td>625</td>\n",
       "      <td>2221</td>\n",
       "      <td>6</td>\n",
       "      <td>[grey, VISam, nan, VIS, VISp, VISl, VISrl]</td>\n",
       "    </tr>\n",
       "    <tr>\n",
       "      <th>742951821</th>\n",
       "      <td>2019-10-03T00:00:00Z</td>\n",
       "      <td>723627604</td>\n",
       "      <td>brain_observatory_1.1</td>\n",
       "      <td>120.0</td>\n",
       "      <td>M</td>\n",
       "      <td>wt/wt</td>\n",
       "      <td>893</td>\n",
       "      <td>2219</td>\n",
       "      <td>6</td>\n",
       "      <td>[VISal, nan, grey, VISl, VISrl, VISp, VISpm, VIS]</td>\n",
       "    </tr>\n",
       "    <tr>\n",
       "      <th>743475441</th>\n",
       "      <td>2019-10-03T00:00:00Z</td>\n",
       "      <td>722882755</td>\n",
       "      <td>brain_observatory_1.1</td>\n",
       "      <td>121.0</td>\n",
       "      <td>M</td>\n",
       "      <td>wt/wt</td>\n",
       "      <td>553</td>\n",
       "      <td>2225</td>\n",
       "      <td>6</td>\n",
       "      <td>[LP, LGd, HPF, DG, CA3, CA1, VISrl, nan, PP, P...</td>\n",
       "    </tr>\n",
       "  </tbody>\n",
       "</table>\n",
       "</div>"
      ],
      "text/plain": [
       "                   published_at  specimen_id           session_type  \\\n",
       "id                                                                    \n",
       "732592105  2019-10-03T00:00:00Z    717038288  brain_observatory_1.1   \n",
       "737581020  2019-10-03T00:00:00Z    718643567  brain_observatory_1.1   \n",
       "739448407  2019-10-03T00:00:00Z    716813543  brain_observatory_1.1   \n",
       "742951821  2019-10-03T00:00:00Z    723627604  brain_observatory_1.1   \n",
       "743475441  2019-10-03T00:00:00Z    722882755  brain_observatory_1.1   \n",
       "\n",
       "           age_in_days sex full_genotype  unit_count  channel_count  \\\n",
       "id                                                                    \n",
       "732592105        100.0   M         wt/wt         824           1847   \n",
       "737581020        108.0   M         wt/wt         568           2218   \n",
       "739448407        112.0   M         wt/wt         625           2221   \n",
       "742951821        120.0   M         wt/wt         893           2219   \n",
       "743475441        121.0   M         wt/wt         553           2225   \n",
       "\n",
       "           probe_count                         ecephys_structure_acronyms  \n",
       "id                                                                         \n",
       "732592105            5       [grey, VISpm, nan, VISp, VISl, VISal, VISrl]  \n",
       "737581020            6      [grey, VISmma, nan, VISpm, VISp, VISl, VISrl]  \n",
       "739448407            6         [grey, VISam, nan, VIS, VISp, VISl, VISrl]  \n",
       "742951821            6  [VISal, nan, grey, VISl, VISrl, VISp, VISpm, VIS]  \n",
       "743475441            6  [LP, LGd, HPF, DG, CA3, CA1, VISrl, nan, PP, P...  "
      ]
     },
     "execution_count": 5,
     "metadata": {},
     "output_type": "execute_result"
    }
   ],
   "source": [
    "filtered_sessions = sessions[(sessions.sex == 'M') & \\\n",
    "                             (sessions.full_genotype == 'wt/wt') & \\\n",
    "                             (sessions.session_type == 'brain_observatory_1.1') & \\\n",
    "                             (['VISp' in acronyms for acronyms in \n",
    "                               sessions.ecephys_structure_acronyms])]\n",
    "\n",
    "filtered_sessions.head()"
   ]
  },
  {
   "cell_type": "markdown",
   "metadata": {},
   "source": [
    "for our purposes, you should choose a session that has ```session_type` =='brain_observatory_1.1'``` and ```['VISp' in acronyms for acronyms in sessions.ecephys_structure_acronyms]```. but beyond that, you could chooose any session. i'll choose the last session in my ```filtered_sessions``` DataFrame:"
   ]
  },
  {
   "cell_type": "markdown",
   "metadata": {},
   "source": [
    "*note: To save time [and because the AllenSDK is flaky with Neuropixels data], i've downloaded this session already and stored it in the Google cloud such that you can access it directly. I left the AllenSDK call in this cell, but commented it out, so you can see how straightforward it might have been to get this data. You can also see the TimeSeries ipynb.*"
   ]
  },
  {
   "cell_type": "code",
   "execution_count": 5,
   "metadata": {},
   "outputs": [],
   "source": [
    "from allensdk.brain_observatory.ecephys.ecephys_session import EcephysSession\n",
    "#AllenSDK\n",
    "# session = cache.get_session_data(filtered_sessions.index.values[-1])\n",
    "\n",
    "nwb_path = '/srv/ecephys_session_799864342.nwb'\n",
    "session = EcephysSession.from_nwb_path(nwb_path)"
   ]
  },
  {
   "cell_type": "markdown",
   "metadata": {},
   "source": [
    "Now we have all of the data (recorded neural data, stimulus information) for one recording session. let's take a pause and assess what we have. what is the data type of ```session```?"
   ]
  },
  {
   "cell_type": "code",
   "execution_count": 6,
   "metadata": {},
   "outputs": [
    {
     "data": {
      "text/plain": [
       "allensdk.brain_observatory.ecephys.ecephys_session.EcephysSession"
      ]
     },
     "execution_count": 6,
     "metadata": {},
     "output_type": "execute_result"
    }
   ],
   "source": [
    "type(session)"
   ]
  },
  {
   "cell_type": "markdown",
   "metadata": {},
   "source": [
    "this is a data object that is not a basic type! what is an \"EcephysSession\"? it's a class object defined by the AllenSDK. classes have functions (methods) of their own, and attributes. both are accessed with by putting a ```.``` after the class object. here's funky line that will tell us what all of the attributes of ```session``` object:"
   ]
  },
  {
   "cell_type": "code",
   "execution_count": 22,
   "metadata": {},
   "outputs": [
    {
     "name": "stdout",
     "output_type": "stream",
     "text": [
      "['DETAILED_STIMULUS_PARAMETERS', 'LazyProperty', 'age_in_days', 'api', 'channel_structure_intervals', 'channels', 'conditionwise_spike_statistics', 'ecephys_session_id', 'from_nwb_path', 'full_genotype', 'get_current_source_density', 'get_inter_presentation_intervals_for_stimulus', 'get_invalid_times', 'get_lfp', 'get_parameter_values_for_stimulus', 'get_pupil_data', 'get_stimulus_epochs', 'get_stimulus_parameter_values', 'get_stimulus_table', 'inter_presentation_intervals', 'invalid_times', 'mean_waveforms', 'metadata', 'num_channels', 'num_probes', 'num_stimulus_presentations', 'num_units', 'optogenetic_stimulation_epochs', 'presentationwise_spike_counts', 'presentationwise_spike_times', 'probes', 'rig_equipment_name', 'rig_geometry_data', 'running_speed', 'session_start_time', 'session_type', 'sex', 'specimen_name', 'spike_amplitudes', 'spike_times', 'stimulus_conditions', 'stimulus_names', 'stimulus_presentations', 'structure_acronyms', 'structurewise_unit_counts', 'units']\n"
     ]
    }
   ],
   "source": [
    "print([attr_or_method for attr_or_method in dir(session) if attr_or_method[0] != '_'])"
   ]
  },
  {
   "cell_type": "code",
   "execution_count": 7,
   "metadata": {},
   "outputs": [],
   "source": [
    "v1_units = session.units[session.units.ecephys_structure_acronym == 'VISp']\n",
    "v1_spike_times = [session.spike_times[cell] for cell in session.units.index[session.units.ecephys_structure_acronym == 'VISp']]\n",
    "v1_units['spike_times']=v1_spike_times"
   ]
  },
  {
   "cell_type": "markdown",
   "metadata": {},
   "source": [
    "note: this one might take a few seconds to execute"
   ]
  },
  {
   "cell_type": "markdown",
   "metadata": {},
   "source": [
    "# ==========================================================\n",
    "## Now we've got data, let's get to work. Our initial goal is to determine the preferred direction of a neuron in V1. Something like the right side of this figure:"
   ]
  },
  {
   "cell_type": "markdown",
   "metadata": {},
   "source": [
    "![Hubel and Wiesel, 1968](./res/HW68_DS.jpg)"
   ]
  },
  {
   "cell_type": "markdown",
   "metadata": {},
   "source": [
    "To generate a plot like this, we need know \n",
    "1. the times of the spikes from each neuron, and \n",
    "2. the times of the stimuli of the various directions.\n",
    "<br>\n"
   ]
  },
  {
   "cell_type": "markdown",
   "metadata": {},
   "source": [
    "let's start with spike times. above, we got the \"units\" (a.k.a. \"neurons\") from primary visual cortex recorded and isolated in this session. Their information is in ```v1_units```. \n",
    "<br>**First question of this exercise:<br>Q1. What type of data is ```v1_units```? write some code that will give the answer in the cell below:**"
   ]
  },
  {
   "cell_type": "code",
   "execution_count": null,
   "metadata": {},
   "outputs": [],
   "source": []
  },
  {
   "cell_type": "markdown",
   "metadata": {},
   "source": [
    "**Q2. How many neurons were recorded in V1 in this recording? write some code that will give the answer in the cell below:**\n",
    "_note: there is not one way to do this; there are several. any is fine!_"
   ]
  },
  {
   "cell_type": "code",
   "execution_count": null,
   "metadata": {},
   "outputs": [],
   "source": []
  },
  {
   "cell_type": "markdown",
   "metadata": {},
   "source": [
    "ok, so we have ___ neurons in V1 in this recording. Let's choose one and look at it's spike times. \n",
    "<--**if you want, put your answer to how many neurons we have in V1 here**<br>\n",
    "i'll choose (semi-randomly, unit 951095552):"
   ]
  },
  {
   "cell_type": "code",
   "execution_count": 10,
   "metadata": {},
   "outputs": [
    {
     "data": {
      "text/plain": [
       "Int64Index([951095018, 951094951, 951095026, 951095011, 951095004, 951094989,\n",
       "            951094929, 951095073, 951095117, 951095109, 951095125, 951095223,\n",
       "            951095248, 951095275, 951095313, 951095304, 951095346, 951095400,\n",
       "            951095391, 951095381, 951095450, 951095433, 951095427, 951095419,\n",
       "            951095408, 951095511, 951095480, 951095469, 951095561, 951095552,\n",
       "            951095635, 951095627, 951095617, 951095580, 951095572, 951095684,\n",
       "            951096915, 951096906, 951095664, 951095654, 951095644, 951095739,\n",
       "            951095732, 951095714, 951095706, 951095699, 951095693, 951095831,\n",
       "            951095784, 951095777, 951095770, 951095821, 951096925, 951095915,\n",
       "            951095895, 951095885, 951095926, 951096002, 951096064, 951096043,\n",
       "            951096942, 951096934, 951096198, 951096951, 951096165, 951096969,\n",
       "            951096290, 951096257, 951096244, 951097075, 951097066, 951096359,\n",
       "            951096339, 951096441, 951097051],\n",
       "           dtype='int64', name='unit_id')"
      ]
     },
     "execution_count": 10,
     "metadata": {},
     "output_type": "execute_result"
    }
   ],
   "source": [
    "v1_units.index"
   ]
  },
  {
   "cell_type": "code",
   "execution_count": 11,
   "metadata": {},
   "outputs": [
    {
     "name": "stdout",
     "output_type": "stream",
     "text": [
      "[4.35202398e+00 4.39592399e+00 4.48725734e+00 ... 1.06746421e+04\n",
      " 1.06787534e+04 1.06794328e+04]\n"
     ]
    }
   ],
   "source": [
    "chosen_neuron_spike_times = v1_units[v1_units.index==v1_units.index[8]].spike_times.values[0]\n",
    "print(chosen_neuron_spike_times)"
   ]
  },
  {
   "cell_type": "markdown",
   "metadata": {},
   "source": [
    "so, now we have ```chosen_neuron_spike_times```, in seconds. how do we get the oriented stimulus times? "
   ]
  },
  {
   "cell_type": "markdown",
   "metadata": {},
   "source": [
    "We'll get all of the stimulus information from the ```session``` object. The details of this ```session``` object are beyond the scope here, but the stimlus information is all in a pandas DataFrame in ```session``` so we will get it (and call in ```stimuli```):"
   ]
  },
  {
   "cell_type": "code",
   "execution_count": 12,
   "metadata": {},
   "outputs": [
    {
     "name": "stdout",
     "output_type": "stream",
     "text": [
      "<class 'pandas.core.frame.DataFrame'>\n"
     ]
    }
   ],
   "source": [
    "stimuli = session.stimulus_presentations\n",
    "print(type(stimuli))"
   ]
  },
  {
   "cell_type": "markdown",
   "metadata": {},
   "source": [
    "note: this cell may take a few seconds, be patient"
   ]
  },
  {
   "cell_type": "markdown",
   "metadata": {},
   "source": [
    "what kind of stimuli were there? we can use the nice ```.unique()``` method of pandas Series (column) or DataFrame (table):"
   ]
  },
  {
   "cell_type": "code",
   "execution_count": 13,
   "metadata": {},
   "outputs": [
    {
     "data": {
      "text/plain": [
       "array(['spontaneous', 'gabors', 'flashes', 'drifting_gratings',\n",
       "       'natural_movie_three', 'natural_movie_one', 'static_gratings',\n",
       "       'natural_scenes', 'drifting_gratings_contrast'], dtype=object)"
      ]
     },
     "execution_count": 13,
     "metadata": {},
     "output_type": "execute_result"
    }
   ],
   "source": [
    "stimuli.stimulus_name.unique()"
   ]
  },
  {
   "cell_type": "markdown",
   "metadata": {},
   "source": [
    "we want  ```'drifting_gratings'```, which is the type of stimulus that has oriented stimuli for making an direction tuning curve. We filter all of the stimuli to get onlu the grating stimuli:"
   ]
  },
  {
   "cell_type": "code",
   "execution_count": 14,
   "metadata": {},
   "outputs": [
    {
     "name": "stdout",
     "output_type": "stream",
     "text": [
      "[135.0 45.0 0.0 270.0 90.0 180.0 315.0 225.0]\n"
     ]
    }
   ],
   "source": [
    "grating_stimuli = session.stimulus_presentations[session.stimulus_presentations.stimulus_name == 'drifting_gratings']\n",
    "grating_stimuli = grating_stimuli[grating_stimuli.orientation != 'null']\n",
    "print(grating_stimuli.orientation.unique()) # ignore the fact that this is called \"orientation\" and not \"direction\". can't win them all!"
   ]
  },
  {
   "cell_type": "markdown",
   "metadata": {},
   "source": [
    "note, we have grating stimuli with various directions, separated by 45º. great for making an direction tuning curve! what else do we know about these grating stimuli? we'll use ```.head()``` to show us just the first five entries in ```grating_stimuli```, that way we can read all of the columns and get a flavor:"
   ]
  },
  {
   "cell_type": "code",
   "execution_count": 15,
   "metadata": {},
   "outputs": [
    {
     "data": {
      "text/html": [
       "<div>\n",
       "<style scoped>\n",
       "    .dataframe tbody tr th:only-of-type {\n",
       "        vertical-align: middle;\n",
       "    }\n",
       "\n",
       "    .dataframe tbody tr th {\n",
       "        vertical-align: top;\n",
       "    }\n",
       "\n",
       "    .dataframe thead th {\n",
       "        text-align: right;\n",
       "    }\n",
       "</style>\n",
       "<table border=\"1\" class=\"dataframe\">\n",
       "  <thead>\n",
       "    <tr style=\"text-align: right;\">\n",
       "      <th></th>\n",
       "      <th>color</th>\n",
       "      <th>contrast</th>\n",
       "      <th>frame</th>\n",
       "      <th>orientation</th>\n",
       "      <th>phase</th>\n",
       "      <th>pos</th>\n",
       "      <th>size</th>\n",
       "      <th>spatial_frequency</th>\n",
       "      <th>start_time</th>\n",
       "      <th>stimulus_block</th>\n",
       "      <th>stimulus_name</th>\n",
       "      <th>stop_time</th>\n",
       "      <th>temporal_frequency</th>\n",
       "      <th>x_position</th>\n",
       "      <th>y_position</th>\n",
       "      <th>duration</th>\n",
       "      <th>stimulus_condition_id</th>\n",
       "    </tr>\n",
       "    <tr>\n",
       "      <th>stimulus_presentation_id</th>\n",
       "      <th></th>\n",
       "      <th></th>\n",
       "      <th></th>\n",
       "      <th></th>\n",
       "      <th></th>\n",
       "      <th></th>\n",
       "      <th></th>\n",
       "      <th></th>\n",
       "      <th></th>\n",
       "      <th></th>\n",
       "      <th></th>\n",
       "      <th></th>\n",
       "      <th></th>\n",
       "      <th></th>\n",
       "      <th></th>\n",
       "      <th></th>\n",
       "      <th></th>\n",
       "    </tr>\n",
       "  </thead>\n",
       "  <tbody>\n",
       "    <tr>\n",
       "      <td>3798</td>\n",
       "      <td>null</td>\n",
       "      <td>0.8</td>\n",
       "      <td>null</td>\n",
       "      <td>135</td>\n",
       "      <td>[42471.86666667, 42471.86666667]</td>\n",
       "      <td>[0.0, 0.0]</td>\n",
       "      <td>[250.0, 250.0]</td>\n",
       "      <td>0.04</td>\n",
       "      <td>1590.310709</td>\n",
       "      <td>2</td>\n",
       "      <td>drifting_gratings</td>\n",
       "      <td>1592.312419</td>\n",
       "      <td>4</td>\n",
       "      <td>null</td>\n",
       "      <td>null</td>\n",
       "      <td>2.00171</td>\n",
       "      <td>246</td>\n",
       "    </tr>\n",
       "    <tr>\n",
       "      <td>3799</td>\n",
       "      <td>null</td>\n",
       "      <td>0.8</td>\n",
       "      <td>null</td>\n",
       "      <td>135</td>\n",
       "      <td>[42471.86666667, 42471.86666667]</td>\n",
       "      <td>[0.0, 0.0]</td>\n",
       "      <td>[250.0, 250.0]</td>\n",
       "      <td>0.04</td>\n",
       "      <td>1593.313231</td>\n",
       "      <td>2</td>\n",
       "      <td>drifting_gratings</td>\n",
       "      <td>1595.314911</td>\n",
       "      <td>15</td>\n",
       "      <td>null</td>\n",
       "      <td>null</td>\n",
       "      <td>2.00168</td>\n",
       "      <td>247</td>\n",
       "    </tr>\n",
       "    <tr>\n",
       "      <td>3800</td>\n",
       "      <td>null</td>\n",
       "      <td>0.8</td>\n",
       "      <td>null</td>\n",
       "      <td>45</td>\n",
       "      <td>[42471.86666667, 42471.86666667]</td>\n",
       "      <td>[0.0, 0.0]</td>\n",
       "      <td>[250.0, 250.0]</td>\n",
       "      <td>0.04</td>\n",
       "      <td>1596.315739</td>\n",
       "      <td>2</td>\n",
       "      <td>drifting_gratings</td>\n",
       "      <td>1598.317439</td>\n",
       "      <td>15</td>\n",
       "      <td>null</td>\n",
       "      <td>null</td>\n",
       "      <td>2.00170</td>\n",
       "      <td>248</td>\n",
       "    </tr>\n",
       "    <tr>\n",
       "      <td>3801</td>\n",
       "      <td>null</td>\n",
       "      <td>0.8</td>\n",
       "      <td>null</td>\n",
       "      <td>0</td>\n",
       "      <td>[42471.86666667, 42471.86666667]</td>\n",
       "      <td>[0.0, 0.0]</td>\n",
       "      <td>[250.0, 250.0]</td>\n",
       "      <td>0.04</td>\n",
       "      <td>1599.318261</td>\n",
       "      <td>2</td>\n",
       "      <td>drifting_gratings</td>\n",
       "      <td>1601.319921</td>\n",
       "      <td>1</td>\n",
       "      <td>null</td>\n",
       "      <td>null</td>\n",
       "      <td>2.00166</td>\n",
       "      <td>249</td>\n",
       "    </tr>\n",
       "    <tr>\n",
       "      <td>3803</td>\n",
       "      <td>null</td>\n",
       "      <td>0.8</td>\n",
       "      <td>null</td>\n",
       "      <td>135</td>\n",
       "      <td>[42471.86666667, 42471.86666667]</td>\n",
       "      <td>[0.0, 0.0]</td>\n",
       "      <td>[250.0, 250.0]</td>\n",
       "      <td>0.04</td>\n",
       "      <td>1605.323281</td>\n",
       "      <td>2</td>\n",
       "      <td>drifting_gratings</td>\n",
       "      <td>1607.324941</td>\n",
       "      <td>8</td>\n",
       "      <td>null</td>\n",
       "      <td>null</td>\n",
       "      <td>2.00166</td>\n",
       "      <td>251</td>\n",
       "    </tr>\n",
       "  </tbody>\n",
       "</table>\n",
       "</div>"
      ],
      "text/plain": [
       "                         color contrast frame orientation  \\\n",
       "stimulus_presentation_id                                    \n",
       "3798                      null      0.8  null         135   \n",
       "3799                      null      0.8  null         135   \n",
       "3800                      null      0.8  null          45   \n",
       "3801                      null      0.8  null           0   \n",
       "3803                      null      0.8  null         135   \n",
       "\n",
       "                                                     phase         pos  \\\n",
       "stimulus_presentation_id                                                 \n",
       "3798                      [42471.86666667, 42471.86666667]  [0.0, 0.0]   \n",
       "3799                      [42471.86666667, 42471.86666667]  [0.0, 0.0]   \n",
       "3800                      [42471.86666667, 42471.86666667]  [0.0, 0.0]   \n",
       "3801                      [42471.86666667, 42471.86666667]  [0.0, 0.0]   \n",
       "3803                      [42471.86666667, 42471.86666667]  [0.0, 0.0]   \n",
       "\n",
       "                                    size spatial_frequency   start_time  \\\n",
       "stimulus_presentation_id                                                  \n",
       "3798                      [250.0, 250.0]              0.04  1590.310709   \n",
       "3799                      [250.0, 250.0]              0.04  1593.313231   \n",
       "3800                      [250.0, 250.0]              0.04  1596.315739   \n",
       "3801                      [250.0, 250.0]              0.04  1599.318261   \n",
       "3803                      [250.0, 250.0]              0.04  1605.323281   \n",
       "\n",
       "                         stimulus_block      stimulus_name    stop_time  \\\n",
       "stimulus_presentation_id                                                  \n",
       "3798                                  2  drifting_gratings  1592.312419   \n",
       "3799                                  2  drifting_gratings  1595.314911   \n",
       "3800                                  2  drifting_gratings  1598.317439   \n",
       "3801                                  2  drifting_gratings  1601.319921   \n",
       "3803                                  2  drifting_gratings  1607.324941   \n",
       "\n",
       "                         temporal_frequency x_position y_position  duration  \\\n",
       "stimulus_presentation_id                                                      \n",
       "3798                                      4       null       null   2.00171   \n",
       "3799                                     15       null       null   2.00168   \n",
       "3800                                     15       null       null   2.00170   \n",
       "3801                                      1       null       null   2.00166   \n",
       "3803                                      8       null       null   2.00166   \n",
       "\n",
       "                          stimulus_condition_id  \n",
       "stimulus_presentation_id                         \n",
       "3798                                        246  \n",
       "3799                                        247  \n",
       "3800                                        248  \n",
       "3801                                        249  \n",
       "3803                                        251  "
      ]
     },
     "execution_count": 15,
     "metadata": {},
     "output_type": "execute_result"
    }
   ],
   "source": [
    "grating_stimuli.head()"
   ]
  },
  {
   "cell_type": "markdown",
   "metadata": {},
   "source": [
    "notice the column ```start_time```. this is the start of each grating presentation, in seconds. \n",
    "<br> so, to get the stimulus times of each grating with an direction of 0º, we filter the ```grating_stimuli``` DataFrame again, and get the ```.start_time``` column:"
   ]
  },
  {
   "cell_type": "code",
   "execution_count": 16,
   "metadata": {},
   "outputs": [
    {
     "name": "stdout",
     "output_type": "stream",
     "text": [
      "75\n"
     ]
    }
   ],
   "source": [
    "direction_0_times = grating_stimuli.start_time[grating_stimuli.orientation==0.0].values\n",
    "print(len(direction_0_times))"
   ]
  },
  {
   "cell_type": "markdown",
   "metadata": {},
   "source": [
    "A grating of direction 0º was shown 75 times.<br>\n",
    "**Q3: How long (in duration) was each of these 75 presentations? make a variable called ```duration``` and assign it your answer (in seconds). note that ```duration``` should be a ```float```** <br>_hint: look at the other column names in ```grating_stimuli```_"
   ]
  },
  {
   "cell_type": "code",
   "execution_count": null,
   "metadata": {},
   "outputs": [],
   "source": []
  },
  {
   "cell_type": "markdown",
   "metadata": {},
   "source": [
    "We can now answer the question: for direction X how many spikes did your chosen v1 cell fire during the stimulus presentation period (start time + duration)? We will do so by counting the spike times of our chose v1 cell that occur between ```start_time``` and ```start_time``` + ```duration```. first, i'll write this out in the most explicit way possible, with ```for``` loops and ```if``` statements. <br>For demonstration purposes, let's also time it."
   ]
  },
  {
   "cell_type": "code",
   "execution_count": 140,
   "metadata": {},
   "outputs": [],
   "source": [
    "import time"
   ]
  },
  {
   "cell_type": "code",
   "execution_count": 158,
   "metadata": {},
   "outputs": [
    {
     "name": "stdout",
     "output_type": "stream",
     "text": [
      "that took: 6.57303261756897 seconds\n"
     ]
    }
   ],
   "source": [
    "start = time.time()\n",
    "dir0_counts = []\n",
    "for start_time in direction_0_times:\n",
    "    count = 0\n",
    "    for spike_time in chosen_neuron_spike_times:\n",
    "        if spike_time > start_time:\n",
    "            if spike_time < start_time + duration:\n",
    "                count = count + 1\n",
    "    dir0_counts.extend([count])\n",
    "print('that took: '+str(time.time()-start)+' seconds')"
   ]
  },
  {
   "cell_type": "markdown",
   "metadata": {},
   "source": [
    "the above code works, but it is pretty slow and inefficent (in terms of lines of code). using ```numpy```'s ```np.where``` function and a python concept called list comprehension, we can do this in one line, and lightning fast:"
   ]
  },
  {
   "cell_type": "code",
   "execution_count": 159,
   "metadata": {},
   "outputs": [
    {
     "name": "stdout",
     "output_type": "stream",
     "text": [
      "that took: 0.013327360153198242 seconds\n"
     ]
    }
   ],
   "source": [
    "start = time.time()\n",
    "dir0_counts2 = [len(np.where((chosen_neuron_spike_times >= start_time) & (chosen_neuron_spike_times <=start_time+duration))[0]) for start_time in direction_0_times]\n",
    "print('that took: '+str(time.time()-start)+' seconds')"
   ]
  },
  {
   "cell_type": "markdown",
   "metadata": {},
   "source": [
    "note, reassuringly, that we got the same answer:"
   ]
  },
  {
   "cell_type": "code",
   "execution_count": 160,
   "metadata": {},
   "outputs": [
    {
     "data": {
      "text/plain": [
       "True"
      ]
     },
     "execution_count": 160,
     "metadata": {},
     "output_type": "execute_result"
    }
   ],
   "source": [
    "dir0_counts == dir0_counts2"
   ]
  },
  {
   "cell_type": "markdown",
   "metadata": {},
   "source": [
    "Let's start making our direction tuning curve:"
   ]
  },
  {
   "cell_type": "code",
   "execution_count": 153,
   "metadata": {},
   "outputs": [],
   "source": [
    "direction = np.array([0]) # in degrees\n",
    "mean_spike_count = np.array([np.mean(dir0_counts)])"
   ]
  },
  {
   "cell_type": "code",
   "execution_count": 155,
   "metadata": {},
   "outputs": [
    {
     "data": {
      "text/plain": [
       "[<matplotlib.lines.Line2D at 0x7f9982adda20>]"
      ]
     },
     "execution_count": 155,
     "metadata": {},
     "output_type": "execute_result"
    },
    {
     "data": {
      "image/png": "[encoded data removed]",
      "text/plain": [
       "<Figure size 432x288 with 1 Axes>"
      ]
     },
     "metadata": {
      "needs_background": "light"
     },
     "output_type": "display_data"
    }
   ],
   "source": [
    "plt.scatter(direction,mean_spike_count)"
   ]
  },
  {
   "cell_type": "markdown",
   "metadata": {},
   "source": [
    "Welp, the plot didn't work.<br>\n",
    "**Q4: why not? make the above plot work, without changing the code in the cell. add a cell above it, and then rerun the cell with ```plt.plot(direction,mean_spike_count)``` (or...if it did work...what had you done that made it work?)**"
   ]
  },
  {
   "cell_type": "markdown",
   "metadata": {},
   "source": [
    "Finally, a plot! Let's finish making our direction tuning curve. We need to iterate over all of the presented directions. <br>\n",
    "**Q5: What are all of the presented stimulus directions in this session? iterate over all of them, printing them in each iteration**"
   ]
  },
  {
   "cell_type": "code",
   "execution_count": null,
   "metadata": {},
   "outputs": [],
   "source": []
  },
  {
   "cell_type": "markdown",
   "metadata": {},
   "source": [
    "**Q6: iterate over the stimulus directions again, but this time instead of printing them, count the number of spikes within the duration.** _hint: go back and look at how we did this for dir0_counts2_"
   ]
  },
  {
   "cell_type": "code",
   "execution_count": null,
   "metadata": {},
   "outputs": [],
   "source": []
  },
  {
   "cell_type": "markdown",
   "metadata": {},
   "source": [
    "**Q7: plot the mean spike count as a function of direction**"
   ]
  },
  {
   "cell_type": "code",
   "execution_count": null,
   "metadata": {},
   "outputs": [],
   "source": [
    "plt.plot(??????)"
   ]
  },
  {
   "cell_type": "markdown",
   "metadata": {},
   "source": [
    "**Q8: add error bars (standard deviation) to the plot from Q7. use plt.errorbar(), and note that you can measure the standard deviation of a list or array of spike counts with np.std()**<br> this may or may not take a few lines or cells to recompute the standard deviation. feel free to work below!"
   ]
  },
  {
   "cell_type": "code",
   "execution_count": null,
   "metadata": {},
   "outputs": [],
   "source": [
    "plt.errorbar(?????)"
   ]
  },
  {
   "cell_type": "code",
   "execution_count": null,
   "metadata": {},
   "outputs": [],
   "source": []
  },
  {
   "cell_type": "code",
   "execution_count": null,
   "metadata": {},
   "outputs": [],
   "source": []
  },
  {
   "cell_type": "markdown",
   "metadata": {},
   "source": [
    "Bonus!<br>**Convert the spike counts to firing rate (spikes / sec)**"
   ]
  },
  {
   "cell_type": "markdown",
   "metadata": {},
   "source": [
    "Bonus!<br>**What is the cells's preferred orientation (the orientation with the highest mean evoked spike count?)**"
   ]
  },
  {
   "cell_type": "code",
   "execution_count": null,
   "metadata": {},
   "outputs": [],
   "source": []
  }
 ],
 "metadata": {
  "kernelspec": {
   "display_name": "Python 3",
   "language": "python",
   "name": "python3"
  },
  "language_info": {
   "codemirror_mode": {
    "name": "ipython",
    "version": 3
   },
   "file_extension": ".py",
   "mimetype": "text/x-python",
   "name": "python",
   "nbconvert_exporter": "python",
   "pygments_lexer": "ipython3",
   "version": "3.7.4"
  }
 },
 "nbformat": 4,
 "nbformat_minor": 4
}
